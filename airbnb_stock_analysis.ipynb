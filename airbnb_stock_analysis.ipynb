{
 "cells": [
  {
   "cell_type": "markdown",
   "id": "84be277f",
   "metadata": {},
   "source": [
    "# AirBnb Time Series Analysis"
   ]
  },
  {
   "cell_type": "markdown",
   "id": "ff6a9546",
   "metadata": {},
   "source": [
    "There are many aspects of a company's stock value that may be of interest to the shareholder. First, we will try to predict the closing stock value for AirBnb. Then we'll apply similar methods to create models to predict the Highest stock value."
   ]
  },
  {
   "cell_type": "markdown",
   "id": "7448c731",
   "metadata": {},
   "source": [
    "## Install Required Libraries"
   ]
  },
  {
   "cell_type": "code",
   "execution_count": 1,
   "id": "cefd66c2",
   "metadata": {},
   "outputs": [
    {
     "name": "stdout",
     "output_type": "stream",
     "text": [
      "Requirement already satisfied: pandas==1.3.4 in /Users/williamcornejo/miniconda3/envs/py39/lib/python3.9/site-packages (1.3.4)\n",
      "Requirement already satisfied: numpy==1.22.3 in /Users/williamcornejo/miniconda3/envs/py39/lib/python3.9/site-packages (1.22.3)\n",
      "Requirement already satisfied: seaborn==0.9.0 in /Users/williamcornejo/miniconda3/envs/py39/lib/python3.9/site-packages (0.9.0)\n",
      "Requirement already satisfied: matplotlib==3.5.1 in /Users/williamcornejo/miniconda3/envs/py39/lib/python3.9/site-packages (3.5.1)\n",
      "Requirement already satisfied: scikit-learn==1.0.2 in /Users/williamcornejo/miniconda3/envs/py39/lib/python3.9/site-packages (1.0.2)\n",
      "Requirement already satisfied: pytz>=2017.3 in /Users/williamcornejo/miniconda3/envs/py39/lib/python3.9/site-packages (from pandas==1.3.4) (2023.3)\n",
      "Requirement already satisfied: python-dateutil>=2.7.3 in /Users/williamcornejo/miniconda3/envs/py39/lib/python3.9/site-packages (from pandas==1.3.4) (2.8.2)\n",
      "Requirement already satisfied: scipy>=0.14.0 in /Users/williamcornejo/miniconda3/envs/py39/lib/python3.9/site-packages (from seaborn==0.9.0) (1.10.1)\n",
      "Requirement already satisfied: packaging>=20.0 in /Users/williamcornejo/.local/lib/python3.9/site-packages (from matplotlib==3.5.1) (23.1)\n",
      "Requirement already satisfied: fonttools>=4.22.0 in /Users/williamcornejo/miniconda3/envs/py39/lib/python3.9/site-packages (from matplotlib==3.5.1) (4.39.3)\n",
      "Requirement already satisfied: pyparsing>=2.2.1 in /Users/williamcornejo/miniconda3/envs/py39/lib/python3.9/site-packages (from matplotlib==3.5.1) (3.0.9)\n",
      "Requirement already satisfied: pillow>=6.2.0 in /Users/williamcornejo/miniconda3/envs/py39/lib/python3.9/site-packages (from matplotlib==3.5.1) (9.5.0)\n",
      "Requirement already satisfied: cycler>=0.10 in /Users/williamcornejo/miniconda3/envs/py39/lib/python3.9/site-packages (from matplotlib==3.5.1) (0.11.0)\n",
      "Requirement already satisfied: kiwisolver>=1.0.1 in /Users/williamcornejo/miniconda3/envs/py39/lib/python3.9/site-packages (from matplotlib==3.5.1) (1.4.4)\n",
      "Requirement already satisfied: threadpoolctl>=2.0.0 in /Users/williamcornejo/miniconda3/envs/py39/lib/python3.9/site-packages (from scikit-learn==1.0.2) (3.1.0)\n",
      "Requirement already satisfied: joblib>=0.11 in /Users/williamcornejo/miniconda3/envs/py39/lib/python3.9/site-packages (from scikit-learn==1.0.2) (1.2.0)\n",
      "Requirement already satisfied: six>=1.5 in /Users/williamcornejo/miniconda3/envs/py39/lib/python3.9/site-packages (from python-dateutil>=2.7.3->pandas==1.3.4) (1.16.0)\n",
      "Note: you may need to restart the kernel to use updated packages.\n"
     ]
    }
   ],
   "source": [
    "pip install pandas==1.3.4 numpy==1.22.3 seaborn==0.9.0 matplotlib==3.5.1 scikit-learn==1.0.2"
   ]
  },
  {
   "cell_type": "markdown",
   "id": "244f0136",
   "metadata": {},
   "source": [
    "## Import Libraries"
   ]
  },
  {
   "cell_type": "code",
   "execution_count": 2,
   "id": "58242dcf",
   "metadata": {},
   "outputs": [],
   "source": [
    "import os\n",
    "import copy\n",
    "\n",
    "import numpy as np\n",
    "from numpy.core.fromnumeric import reshape\n",
    "from sklearn.metrics import mean_absolute_error,mean_absolute_percentage_error,mean_squared_error,r2_score\n",
    "from sklearn.linear_model import LinearRegression, Ridge, RidgeCV, Lasso, LassoCV\n",
    "from sklearn.ensemble import RandomForestRegressor\n",
    "from numpy.random import rand\n",
    "\n",
    "from sklearn import decomposition, datasets\n",
    "from sklearn.pipeline import Pipeline\n",
    "from sklearn.model_selection import GridSearchCV, cross_val_score, train_test_split, KFold\n",
    "from sklearn.preprocessing import StandardScaler\n",
    "from sklearn.preprocessing import scale\n",
    "#import tensorflow as tf\n",
    "    \n",
    "#import keras\n",
    "#from keras import layers,Input,Sequential \n",
    "#from keras.layers import Dense,Flatten,Reshape,Conv2DTranspose,Conv2D, BatchNormalization\n",
    "#from keras.models import Model\n",
    "#from tensorflow.keras.optimizers import SGD\n",
    "\n",
    "#from keras.layers import Conv2D\n",
    "def warn(*args, **kwargs):\n",
    "    pass\n",
    "import warnings\n",
    "warnings.warn = warn\n",
    "warnings.filterwarnings('ignore')\n",
    "\n",
    "import seaborn as sns\n",
    "import pandas as pd\n",
    "\n",
    "from matplotlib import pyplot as plt"
   ]
  },
  {
   "cell_type": "markdown",
   "id": "a69679f1",
   "metadata": {},
   "source": [
    "Here is a function that will create feature columns for the year month and day of week of the Airbnb stock value"
   ]
  },
  {
   "cell_type": "code",
   "execution_count": 97,
   "id": "bb494666",
   "metadata": {},
   "outputs": [],
   "source": [
    "def create_features_datetime(df):\n",
    "    \n",
    "    df['Year']=df.index.year\n",
    "    df['Month']=df.index.month\n",
    "    df['dow']=df.index.day_of_week\n",
    "    \n",
    "    return df"
   ]
  },
  {
   "cell_type": "markdown",
   "id": "7aef1ce8",
   "metadata": {},
   "source": [
    "## Prepare Dataset"
   ]
  },
  {
   "cell_type": "code",
   "execution_count": 4,
   "id": "5e3375ef",
   "metadata": {},
   "outputs": [
    {
     "data": {
      "text/html": [
       "<div>\n",
       "<style scoped>\n",
       "    .dataframe tbody tr th:only-of-type {\n",
       "        vertical-align: middle;\n",
       "    }\n",
       "\n",
       "    .dataframe tbody tr th {\n",
       "        vertical-align: top;\n",
       "    }\n",
       "\n",
       "    .dataframe thead th {\n",
       "        text-align: right;\n",
       "    }\n",
       "</style>\n",
       "<table border=\"1\" class=\"dataframe\">\n",
       "  <thead>\n",
       "    <tr style=\"text-align: right;\">\n",
       "      <th></th>\n",
       "      <th>Date</th>\n",
       "      <th>Open</th>\n",
       "      <th>High</th>\n",
       "      <th>Low</th>\n",
       "      <th>Close</th>\n",
       "      <th>Adj Close</th>\n",
       "      <th>Volume</th>\n",
       "    </tr>\n",
       "  </thead>\n",
       "  <tbody>\n",
       "    <tr>\n",
       "      <th>0</th>\n",
       "      <td>2020-12-11</td>\n",
       "      <td>146.550003</td>\n",
       "      <td>151.500000</td>\n",
       "      <td>135.100006</td>\n",
       "      <td>139.250000</td>\n",
       "      <td>139.250000</td>\n",
       "      <td>26980800</td>\n",
       "    </tr>\n",
       "    <tr>\n",
       "      <th>1</th>\n",
       "      <td>2020-12-14</td>\n",
       "      <td>135.000000</td>\n",
       "      <td>135.300003</td>\n",
       "      <td>125.160004</td>\n",
       "      <td>130.000000</td>\n",
       "      <td>130.000000</td>\n",
       "      <td>16966100</td>\n",
       "    </tr>\n",
       "    <tr>\n",
       "      <th>2</th>\n",
       "      <td>2020-12-15</td>\n",
       "      <td>126.690002</td>\n",
       "      <td>127.599998</td>\n",
       "      <td>121.500000</td>\n",
       "      <td>124.800003</td>\n",
       "      <td>124.800003</td>\n",
       "      <td>10914400</td>\n",
       "    </tr>\n",
       "    <tr>\n",
       "      <th>3</th>\n",
       "      <td>2020-12-16</td>\n",
       "      <td>125.830002</td>\n",
       "      <td>142.000000</td>\n",
       "      <td>124.910004</td>\n",
       "      <td>137.990005</td>\n",
       "      <td>137.990005</td>\n",
       "      <td>20409600</td>\n",
       "    </tr>\n",
       "    <tr>\n",
       "      <th>4</th>\n",
       "      <td>2020-12-17</td>\n",
       "      <td>143.000000</td>\n",
       "      <td>152.449997</td>\n",
       "      <td>142.669998</td>\n",
       "      <td>147.050003</td>\n",
       "      <td>147.050003</td>\n",
       "      <td>15054700</td>\n",
       "    </tr>\n",
       "  </tbody>\n",
       "</table>\n",
       "</div>"
      ],
      "text/plain": [
       "         Date        Open        High         Low       Close   Adj Close  \\\n",
       "0  2020-12-11  146.550003  151.500000  135.100006  139.250000  139.250000   \n",
       "1  2020-12-14  135.000000  135.300003  125.160004  130.000000  130.000000   \n",
       "2  2020-12-15  126.690002  127.599998  121.500000  124.800003  124.800003   \n",
       "3  2020-12-16  125.830002  142.000000  124.910004  137.990005  137.990005   \n",
       "4  2020-12-17  143.000000  152.449997  142.669998  147.050003  147.050003   \n",
       "\n",
       "     Volume  \n",
       "0  26980800  \n",
       "1  16966100  \n",
       "2  10914400  \n",
       "3  20409600  \n",
       "4  15054700  "
      ]
     },
     "execution_count": 4,
     "metadata": {},
     "output_type": "execute_result"
    }
   ],
   "source": [
    "df = pd.read_csv(\"../data/ABNB.csv\")\n",
    "df.head()"
   ]
  },
  {
   "cell_type": "markdown",
   "id": "df37fd23",
   "metadata": {},
   "source": [
    "The date column will be set as the index of the dataframe"
   ]
  },
  {
   "cell_type": "code",
   "execution_count": 5,
   "id": "d29aed05",
   "metadata": {},
   "outputs": [
    {
     "data": {
      "text/html": [
       "<div>\n",
       "<style scoped>\n",
       "    .dataframe tbody tr th:only-of-type {\n",
       "        vertical-align: middle;\n",
       "    }\n",
       "\n",
       "    .dataframe tbody tr th {\n",
       "        vertical-align: top;\n",
       "    }\n",
       "\n",
       "    .dataframe thead th {\n",
       "        text-align: right;\n",
       "    }\n",
       "</style>\n",
       "<table border=\"1\" class=\"dataframe\">\n",
       "  <thead>\n",
       "    <tr style=\"text-align: right;\">\n",
       "      <th></th>\n",
       "      <th>Open</th>\n",
       "      <th>High</th>\n",
       "      <th>Low</th>\n",
       "      <th>Close</th>\n",
       "      <th>Adj Close</th>\n",
       "      <th>Volume</th>\n",
       "    </tr>\n",
       "    <tr>\n",
       "      <th>Date</th>\n",
       "      <th></th>\n",
       "      <th></th>\n",
       "      <th></th>\n",
       "      <th></th>\n",
       "      <th></th>\n",
       "      <th></th>\n",
       "    </tr>\n",
       "  </thead>\n",
       "  <tbody>\n",
       "    <tr>\n",
       "      <th>2020-12-11</th>\n",
       "      <td>146.550003</td>\n",
       "      <td>151.500000</td>\n",
       "      <td>135.100006</td>\n",
       "      <td>139.250000</td>\n",
       "      <td>139.250000</td>\n",
       "      <td>26980800</td>\n",
       "    </tr>\n",
       "    <tr>\n",
       "      <th>2020-12-14</th>\n",
       "      <td>135.000000</td>\n",
       "      <td>135.300003</td>\n",
       "      <td>125.160004</td>\n",
       "      <td>130.000000</td>\n",
       "      <td>130.000000</td>\n",
       "      <td>16966100</td>\n",
       "    </tr>\n",
       "    <tr>\n",
       "      <th>2020-12-15</th>\n",
       "      <td>126.690002</td>\n",
       "      <td>127.599998</td>\n",
       "      <td>121.500000</td>\n",
       "      <td>124.800003</td>\n",
       "      <td>124.800003</td>\n",
       "      <td>10914400</td>\n",
       "    </tr>\n",
       "    <tr>\n",
       "      <th>2020-12-16</th>\n",
       "      <td>125.830002</td>\n",
       "      <td>142.000000</td>\n",
       "      <td>124.910004</td>\n",
       "      <td>137.990005</td>\n",
       "      <td>137.990005</td>\n",
       "      <td>20409600</td>\n",
       "    </tr>\n",
       "    <tr>\n",
       "      <th>2020-12-17</th>\n",
       "      <td>143.000000</td>\n",
       "      <td>152.449997</td>\n",
       "      <td>142.669998</td>\n",
       "      <td>147.050003</td>\n",
       "      <td>147.050003</td>\n",
       "      <td>15054700</td>\n",
       "    </tr>\n",
       "  </tbody>\n",
       "</table>\n",
       "</div>"
      ],
      "text/plain": [
       "                  Open        High         Low       Close   Adj Close  \\\n",
       "Date                                                                     \n",
       "2020-12-11  146.550003  151.500000  135.100006  139.250000  139.250000   \n",
       "2020-12-14  135.000000  135.300003  125.160004  130.000000  130.000000   \n",
       "2020-12-15  126.690002  127.599998  121.500000  124.800003  124.800003   \n",
       "2020-12-16  125.830002  142.000000  124.910004  137.990005  137.990005   \n",
       "2020-12-17  143.000000  152.449997  142.669998  147.050003  147.050003   \n",
       "\n",
       "              Volume  \n",
       "Date                  \n",
       "2020-12-11  26980800  \n",
       "2020-12-14  16966100  \n",
       "2020-12-15  10914400  \n",
       "2020-12-16  20409600  \n",
       "2020-12-17  15054700  "
      ]
     },
     "execution_count": 5,
     "metadata": {},
     "output_type": "execute_result"
    }
   ],
   "source": [
    "df['Date'] = pd.to_datetime(df['Date'])\n",
    "df = df.set_index('Date')\n",
    "df.head()"
   ]
  },
  {
   "cell_type": "markdown",
   "id": "52b3990d",
   "metadata": {},
   "source": [
    "Here is a line plot of the open and close stock values for the 2021-22 year"
   ]
  },
  {
   "cell_type": "code",
   "execution_count": 98,
   "id": "be183925",
   "metadata": {},
   "outputs": [
    {
     "name": "stderr",
     "output_type": "stream",
     "text": [
      "No artists with labels found to put in legend.  Note that artists whose label start with an underscore are ignored when legend() is called with no argument.\n"
     ]
    },
    {
     "data": {
      "image/png": "[encoded data removed]",
      "text/plain": [
       "<Figure size 1600x600 with 2 Axes>"
      ]
     },
     "metadata": {},
     "output_type": "display_data"
    }
   ],
   "source": [
    "plt.figure(figsize=(16, 6))\n",
    "ax = sns.lineplot(y='Open',x=df.index,data=df, color = 'g')\n",
    "ax2 = plt.twinx()\n",
    "sns.lineplot(y='Close',x=df.index,data=df, color = 'b')\n",
    "plt.title(\"Open and Close 2021-22\")\n",
    "ax.figure.legend()\n",
    "plt.show()"
   ]
  },
  {
   "cell_type": "markdown",
   "id": "95f0b75b",
   "metadata": {},
   "source": [
    "## Predicting Closing Value\n",
    "We will predict the Closing value in two different ways: one where the X value is just the Low column, and one where the X value is the entire dataset excluding the Close column"
   ]
  },
  {
   "cell_type": "markdown",
   "id": "603ac4fd",
   "metadata": {},
   "source": [
    "### Choose X as low, y as close"
   ]
  },
  {
   "cell_type": "code",
   "execution_count": 7,
   "id": "1b0e83c3",
   "metadata": {},
   "outputs": [
    {
     "data": {
      "text/html": [
       "<div>\n",
       "<style scoped>\n",
       "    .dataframe tbody tr th:only-of-type {\n",
       "        vertical-align: middle;\n",
       "    }\n",
       "\n",
       "    .dataframe tbody tr th {\n",
       "        vertical-align: top;\n",
       "    }\n",
       "\n",
       "    .dataframe thead th {\n",
       "        text-align: right;\n",
       "    }\n",
       "</style>\n",
       "<table border=\"1\" class=\"dataframe\">\n",
       "  <thead>\n",
       "    <tr style=\"text-align: right;\">\n",
       "      <th></th>\n",
       "      <th>Low</th>\n",
       "      <th>Close</th>\n",
       "    </tr>\n",
       "    <tr>\n",
       "      <th>Date</th>\n",
       "      <th></th>\n",
       "      <th></th>\n",
       "    </tr>\n",
       "  </thead>\n",
       "  <tbody>\n",
       "    <tr>\n",
       "      <th>2020-12-11</th>\n",
       "      <td>135.100006</td>\n",
       "      <td>139.250000</td>\n",
       "    </tr>\n",
       "    <tr>\n",
       "      <th>2020-12-14</th>\n",
       "      <td>125.160004</td>\n",
       "      <td>130.000000</td>\n",
       "    </tr>\n",
       "    <tr>\n",
       "      <th>2020-12-15</th>\n",
       "      <td>121.500000</td>\n",
       "      <td>124.800003</td>\n",
       "    </tr>\n",
       "    <tr>\n",
       "      <th>2020-12-16</th>\n",
       "      <td>124.910004</td>\n",
       "      <td>137.990005</td>\n",
       "    </tr>\n",
       "    <tr>\n",
       "      <th>2020-12-17</th>\n",
       "      <td>142.669998</td>\n",
       "      <td>147.050003</td>\n",
       "    </tr>\n",
       "  </tbody>\n",
       "</table>\n",
       "</div>"
      ],
      "text/plain": [
       "                   Low       Close\n",
       "Date                              \n",
       "2020-12-11  135.100006  139.250000\n",
       "2020-12-14  125.160004  130.000000\n",
       "2020-12-15  121.500000  124.800003\n",
       "2020-12-16  124.910004  137.990005\n",
       "2020-12-17  142.669998  147.050003"
      ]
     },
     "execution_count": 7,
     "metadata": {},
     "output_type": "execute_result"
    }
   ],
   "source": [
    "df_tr = df[['Low', 'Close']].copy()\n",
    "df_tr.head()"
   ]
  },
  {
   "cell_type": "markdown",
   "id": "8491da24",
   "metadata": {},
   "source": [
    "Use the auxilliary function to add dates as features"
   ]
  },
  {
   "cell_type": "code",
   "execution_count": 8,
   "id": "7810b9a6",
   "metadata": {},
   "outputs": [
    {
     "data": {
      "text/html": [
       "<div>\n",
       "<style scoped>\n",
       "    .dataframe tbody tr th:only-of-type {\n",
       "        vertical-align: middle;\n",
       "    }\n",
       "\n",
       "    .dataframe tbody tr th {\n",
       "        vertical-align: top;\n",
       "    }\n",
       "\n",
       "    .dataframe thead th {\n",
       "        text-align: right;\n",
       "    }\n",
       "</style>\n",
       "<table border=\"1\" class=\"dataframe\">\n",
       "  <thead>\n",
       "    <tr style=\"text-align: right;\">\n",
       "      <th></th>\n",
       "      <th>Low</th>\n",
       "      <th>Close</th>\n",
       "      <th>Year</th>\n",
       "      <th>Month</th>\n",
       "      <th>dow</th>\n",
       "    </tr>\n",
       "    <tr>\n",
       "      <th>Date</th>\n",
       "      <th></th>\n",
       "      <th></th>\n",
       "      <th></th>\n",
       "      <th></th>\n",
       "      <th></th>\n",
       "    </tr>\n",
       "  </thead>\n",
       "  <tbody>\n",
       "    <tr>\n",
       "      <th>2020-12-11</th>\n",
       "      <td>135.100006</td>\n",
       "      <td>139.250000</td>\n",
       "      <td>2020</td>\n",
       "      <td>12</td>\n",
       "      <td>4</td>\n",
       "    </tr>\n",
       "    <tr>\n",
       "      <th>2020-12-14</th>\n",
       "      <td>125.160004</td>\n",
       "      <td>130.000000</td>\n",
       "      <td>2020</td>\n",
       "      <td>12</td>\n",
       "      <td>0</td>\n",
       "    </tr>\n",
       "    <tr>\n",
       "      <th>2020-12-15</th>\n",
       "      <td>121.500000</td>\n",
       "      <td>124.800003</td>\n",
       "      <td>2020</td>\n",
       "      <td>12</td>\n",
       "      <td>1</td>\n",
       "    </tr>\n",
       "    <tr>\n",
       "      <th>2020-12-16</th>\n",
       "      <td>124.910004</td>\n",
       "      <td>137.990005</td>\n",
       "      <td>2020</td>\n",
       "      <td>12</td>\n",
       "      <td>2</td>\n",
       "    </tr>\n",
       "    <tr>\n",
       "      <th>2020-12-17</th>\n",
       "      <td>142.669998</td>\n",
       "      <td>147.050003</td>\n",
       "      <td>2020</td>\n",
       "      <td>12</td>\n",
       "      <td>3</td>\n",
       "    </tr>\n",
       "  </tbody>\n",
       "</table>\n",
       "</div>"
      ],
      "text/plain": [
       "                   Low       Close  Year  Month  dow\n",
       "Date                                                \n",
       "2020-12-11  135.100006  139.250000  2020     12    4\n",
       "2020-12-14  125.160004  130.000000  2020     12    0\n",
       "2020-12-15  121.500000  124.800003  2020     12    1\n",
       "2020-12-16  124.910004  137.990005  2020     12    2\n",
       "2020-12-17  142.669998  147.050003  2020     12    3"
      ]
     },
     "execution_count": 8,
     "metadata": {},
     "output_type": "execute_result"
    }
   ],
   "source": [
    "df_tr = create_features_datetime(df_tr)\n",
    "df_tr.head()"
   ]
  },
  {
   "cell_type": "code",
   "execution_count": 9,
   "id": "b28437a9",
   "metadata": {},
   "outputs": [
    {
     "data": {
      "text/html": [
       "<div>\n",
       "<style scoped>\n",
       "    .dataframe tbody tr th:only-of-type {\n",
       "        vertical-align: middle;\n",
       "    }\n",
       "\n",
       "    .dataframe tbody tr th {\n",
       "        vertical-align: top;\n",
       "    }\n",
       "\n",
       "    .dataframe thead th {\n",
       "        text-align: right;\n",
       "    }\n",
       "</style>\n",
       "<table border=\"1\" class=\"dataframe\">\n",
       "  <thead>\n",
       "    <tr style=\"text-align: right;\">\n",
       "      <th></th>\n",
       "      <th>Low</th>\n",
       "      <th>Year</th>\n",
       "      <th>Month</th>\n",
       "      <th>dow</th>\n",
       "    </tr>\n",
       "    <tr>\n",
       "      <th>Date</th>\n",
       "      <th></th>\n",
       "      <th></th>\n",
       "      <th></th>\n",
       "      <th></th>\n",
       "    </tr>\n",
       "  </thead>\n",
       "  <tbody>\n",
       "    <tr>\n",
       "      <th>2020-12-11</th>\n",
       "      <td>135.100006</td>\n",
       "      <td>2020</td>\n",
       "      <td>12</td>\n",
       "      <td>4</td>\n",
       "    </tr>\n",
       "    <tr>\n",
       "      <th>2020-12-14</th>\n",
       "      <td>125.160004</td>\n",
       "      <td>2020</td>\n",
       "      <td>12</td>\n",
       "      <td>0</td>\n",
       "    </tr>\n",
       "    <tr>\n",
       "      <th>2020-12-15</th>\n",
       "      <td>121.500000</td>\n",
       "      <td>2020</td>\n",
       "      <td>12</td>\n",
       "      <td>1</td>\n",
       "    </tr>\n",
       "    <tr>\n",
       "      <th>2020-12-16</th>\n",
       "      <td>124.910004</td>\n",
       "      <td>2020</td>\n",
       "      <td>12</td>\n",
       "      <td>2</td>\n",
       "    </tr>\n",
       "    <tr>\n",
       "      <th>2020-12-17</th>\n",
       "      <td>142.669998</td>\n",
       "      <td>2020</td>\n",
       "      <td>12</td>\n",
       "      <td>3</td>\n",
       "    </tr>\n",
       "    <tr>\n",
       "      <th>...</th>\n",
       "      <td>...</td>\n",
       "      <td>...</td>\n",
       "      <td>...</td>\n",
       "      <td>...</td>\n",
       "    </tr>\n",
       "    <tr>\n",
       "      <th>2022-09-26</th>\n",
       "      <td>101.559998</td>\n",
       "      <td>2022</td>\n",
       "      <td>9</td>\n",
       "      <td>0</td>\n",
       "    </tr>\n",
       "    <tr>\n",
       "      <th>2022-09-27</th>\n",
       "      <td>104.139999</td>\n",
       "      <td>2022</td>\n",
       "      <td>9</td>\n",
       "      <td>1</td>\n",
       "    </tr>\n",
       "    <tr>\n",
       "      <th>2022-09-28</th>\n",
       "      <td>105.779999</td>\n",
       "      <td>2022</td>\n",
       "      <td>9</td>\n",
       "      <td>2</td>\n",
       "    </tr>\n",
       "    <tr>\n",
       "      <th>2022-09-29</th>\n",
       "      <td>105.169998</td>\n",
       "      <td>2022</td>\n",
       "      <td>9</td>\n",
       "      <td>3</td>\n",
       "    </tr>\n",
       "    <tr>\n",
       "      <th>2022-09-30</th>\n",
       "      <td>104.730003</td>\n",
       "      <td>2022</td>\n",
       "      <td>9</td>\n",
       "      <td>4</td>\n",
       "    </tr>\n",
       "  </tbody>\n",
       "</table>\n",
       "<p>454 rows × 4 columns</p>\n",
       "</div>"
      ],
      "text/plain": [
       "                   Low  Year  Month  dow\n",
       "Date                                    \n",
       "2020-12-11  135.100006  2020     12    4\n",
       "2020-12-14  125.160004  2020     12    0\n",
       "2020-12-15  121.500000  2020     12    1\n",
       "2020-12-16  124.910004  2020     12    2\n",
       "2020-12-17  142.669998  2020     12    3\n",
       "...                ...   ...    ...  ...\n",
       "2022-09-26  101.559998  2022      9    0\n",
       "2022-09-27  104.139999  2022      9    1\n",
       "2022-09-28  105.779999  2022      9    2\n",
       "2022-09-29  105.169998  2022      9    3\n",
       "2022-09-30  104.730003  2022      9    4\n",
       "\n",
       "[454 rows x 4 columns]"
      ]
     },
     "execution_count": 9,
     "metadata": {},
     "output_type": "execute_result"
    }
   ],
   "source": [
    "X = df_tr.drop('Close', axis=1)\n",
    "y = df_tr[['Close']]\n",
    "X"
   ]
  },
  {
   "cell_type": "code",
   "execution_count": 10,
   "id": "a5cb1dea",
   "metadata": {},
   "outputs": [],
   "source": [
    "X_train, X_test, y_train, y_test = train_test_split(X, y, test_size=0.2, random_state=42)"
   ]
  },
  {
   "cell_type": "code",
   "execution_count": 11,
   "id": "03eea808",
   "metadata": {},
   "outputs": [
    {
     "data": {
      "text/plain": [
       "((363, 4), (91, 4), (363, 1), (91, 1))"
      ]
     },
     "execution_count": 11,
     "metadata": {},
     "output_type": "execute_result"
    }
   ],
   "source": [
    "X_train.shape,X_test.shape,y_train.shape,y_test.shape"
   ]
  },
  {
   "cell_type": "markdown",
   "id": "5046b660",
   "metadata": {},
   "source": [
    "### Regression Models, No Standard Scaler\n",
    "Now that the data is ready, we will use 4 different regression models to predict test data and record their performance"
   ]
  },
  {
   "cell_type": "code",
   "execution_count": 12,
   "id": "34c634e2",
   "metadata": {},
   "outputs": [],
   "source": [
    "cv = KFold(n_splits=10, shuffle=True, random_state=42)"
   ]
  },
  {
   "cell_type": "code",
   "execution_count": 13,
   "id": "309476ef",
   "metadata": {},
   "outputs": [],
   "source": [
    "reg_1 = LinearRegression(n_jobs=-1)\n",
    "reg_2 = RandomForestRegressor(n_estimators=500,n_jobs=-1)\n",
    "reg_3 = LassoCV()\n",
    "reg_4 = RidgeCV()\n",
    "\n",
    "reg_list = [reg_1,reg_2, reg_3, reg_4]"
   ]
  },
  {
   "cell_type": "code",
   "execution_count": 14,
   "id": "86ef2ffa",
   "metadata": {},
   "outputs": [
    {
     "name": "stdout",
     "output_type": "stream",
     "text": [
      "Fitting LinearRegression done\n",
      "--------------------------------------------------\n",
      "Fitting RandomForestRegressor done\n",
      "--------------------------------------------------\n",
      "Fitting LassoCV done\n",
      "--------------------------------------------------\n",
      "Fitting RidgeCV done\n",
      "--------------------------------------------------\n",
      "CPU times: user 1.41 s, sys: 261 ms, total: 1.67 s\n",
      "Wall time: 1.36 s\n"
     ]
    }
   ],
   "source": [
    "%%time\n",
    "for reg in reg_list:\n",
    "    reg_name=reg.__class__.__name__\n",
    "    reg.fit(X_train,y_train.values.ravel())\n",
    "    print(f\"Fitting {reg_name} done\")\n",
    "    print(\"-\"*50)"
   ]
  },
  {
   "cell_type": "code",
   "execution_count": 15,
   "id": "0c2b5875",
   "metadata": {},
   "outputs": [
    {
     "name": "stdout",
     "output_type": "stream",
     "text": [
      "[0.30405272 0.16659175 0.3818854  0.84775364 0.90923463]\n",
      "~~~~~~~~~~~~~~~~~~~~~~~~~~~~~~~~~~~~~~~~~~~~~~~~~~\n",
      "LinearRegression\n",
      "R2 Score : 0.9848272271558094\n",
      "Mean Absolute Error Score : 2.578177144298008\n",
      "Mean Sqaured Error Score : 12.890078978896536\n",
      "Root Mean Squared Error: 3.59027561322199\n",
      "[0.53423303 0.36051489 0.55388073 0.39504375 0.24527735]\n",
      "~~~~~~~~~~~~~~~~~~~~~~~~~~~~~~~~~~~~~~~~~~~~~~~~~~\n",
      "RandomForestRegressor\n",
      "R2 Score : 0.9818018067209121\n",
      "Mean Absolute Error Score : 2.8754180492307673\n",
      "Mean Sqaured Error Score : 15.460334841200817\n",
      "Root Mean Squared Error: 3.9319632298892135\n",
      "[0.44416283 0.87576068 0.60753021 0.48553017 0.1183067 ]\n",
      "~~~~~~~~~~~~~~~~~~~~~~~~~~~~~~~~~~~~~~~~~~~~~~~~~~\n",
      "LassoCV\n",
      "R2 Score : 0.9843648396093734\n",
      "Mean Absolute Error Score : 2.6321899665854684\n",
      "Mean Sqaured Error Score : 13.282901836895135\n",
      "Root Mean Squared Error: 3.64457155738437\n",
      "[0.98792514 0.11278984 0.8106606  0.4483824  0.87997659]\n",
      "~~~~~~~~~~~~~~~~~~~~~~~~~~~~~~~~~~~~~~~~~~~~~~~~~~\n",
      "RidgeCV\n",
      "R2 Score : 0.9848042853511004\n",
      "Mean Absolute Error Score : 2.5816009266136697\n",
      "Mean Sqaured Error Score : 12.909569264400268\n",
      "Root Mean Squared Error: 3.5929889040185286\n",
      "~~~~~~~~~~~~~~~~~~~~~~~~~~~~~~~~~~~~~~~~~~~~~~~~~~\n"
     ]
    }
   ],
   "source": [
    "score_dict={}\n",
    "\n",
    "for reg in reg_list:\n",
    "    reg_name=reg.__class__.__name__\n",
    "    n_coeff = X_test.shape[1] + 1\n",
    "    coefficients = rand(n_coeff)\n",
    "    print(coefficients)\n",
    "    pred = reg.predict(X_test)\n",
    "    print(\"~\"*50)\n",
    "    print(reg_name)\n",
    "    print(f\"R2 Score : {r2_score(y_test, pred)}\")\n",
    "    print(f\"Mean Absolute Error Score : {mean_absolute_error(y_test,pred)}\")\n",
    "    print(f\"Mean Sqaured Error Score : {mean_squared_error(y_test,pred)}\")\n",
    "    print(f\"Root Mean Squared Error: {mean_squared_error(y_test,pred, squared=False)}\")\n",
    "    score_dict[reg_name]={\n",
    "        \"R2 Score\":r2_score(y_test,pred),\n",
    "        \"Mean Absolute Error Score\":mean_absolute_error(y_test,pred),\n",
    "        \"Mean Squared Error Score\":mean_squared_error(y_test,pred),\n",
    "        \"Root Mean Squared Error\": mean_squared_error(y_test,pred, squared=False)\n",
    "    }\n",
    "print(\"~\"*50)"
   ]
  },
  {
   "cell_type": "code",
   "execution_count": 16,
   "id": "b9a08072",
   "metadata": {},
   "outputs": [
    {
     "data": {
      "text/html": [
       "<div>\n",
       "<style scoped>\n",
       "    .dataframe tbody tr th:only-of-type {\n",
       "        vertical-align: middle;\n",
       "    }\n",
       "\n",
       "    .dataframe tbody tr th {\n",
       "        vertical-align: top;\n",
       "    }\n",
       "\n",
       "    .dataframe thead th {\n",
       "        text-align: right;\n",
       "    }\n",
       "</style>\n",
       "<table border=\"1\" class=\"dataframe\">\n",
       "  <thead>\n",
       "    <tr style=\"text-align: right;\">\n",
       "      <th></th>\n",
       "      <th>R2 Score</th>\n",
       "      <th>Mean Absolute Error Score</th>\n",
       "      <th>Mean Squared Error Score</th>\n",
       "      <th>Root Mean Squared Error</th>\n",
       "    </tr>\n",
       "  </thead>\n",
       "  <tbody>\n",
       "    <tr>\n",
       "      <th>LinearRegression</th>\n",
       "      <td>0.984827</td>\n",
       "      <td>2.578177</td>\n",
       "      <td>12.890079</td>\n",
       "      <td>3.590276</td>\n",
       "    </tr>\n",
       "    <tr>\n",
       "      <th>RidgeCV</th>\n",
       "      <td>0.984804</td>\n",
       "      <td>2.581601</td>\n",
       "      <td>12.909569</td>\n",
       "      <td>3.592989</td>\n",
       "    </tr>\n",
       "    <tr>\n",
       "      <th>LassoCV</th>\n",
       "      <td>0.984365</td>\n",
       "      <td>2.632190</td>\n",
       "      <td>13.282902</td>\n",
       "      <td>3.644572</td>\n",
       "    </tr>\n",
       "    <tr>\n",
       "      <th>RandomForestRegressor</th>\n",
       "      <td>0.981802</td>\n",
       "      <td>2.875418</td>\n",
       "      <td>15.460335</td>\n",
       "      <td>3.931963</td>\n",
       "    </tr>\n",
       "  </tbody>\n",
       "</table>\n",
       "</div>"
      ],
      "text/plain": [
       "                       R2 Score  Mean Absolute Error Score  \\\n",
       "LinearRegression       0.984827                   2.578177   \n",
       "RidgeCV                0.984804                   2.581601   \n",
       "LassoCV                0.984365                   2.632190   \n",
       "RandomForestRegressor  0.981802                   2.875418   \n",
       "\n",
       "                       Mean Squared Error Score  Root Mean Squared Error  \n",
       "LinearRegression                      12.890079                 3.590276  \n",
       "RidgeCV                               12.909569                 3.592989  \n",
       "LassoCV                               13.282902                 3.644572  \n",
       "RandomForestRegressor                 15.460335                 3.931963  "
      ]
     },
     "execution_count": 16,
     "metadata": {},
     "output_type": "execute_result"
    }
   ],
   "source": [
    "score_pd=pd.DataFrame(score_dict).transpose().sort_values(\"R2 Score\",ascending=False)\n",
    "score_pd"
   ]
  },
  {
   "cell_type": "code",
   "execution_count": 17,
   "id": "9b48ed3d",
   "metadata": {},
   "outputs": [
    {
     "data": {
      "text/plain": [
       "<AxesSubplot:>"
      ]
     },
     "execution_count": 17,
     "metadata": {},
     "output_type": "execute_result"
    },
    {
     "data": {
      "image/png": "[encoded data removed]",
      "text/plain": [
       "<Figure size 1000x600 with 1 Axes>"
      ]
     },
     "metadata": {},
     "output_type": "display_data"
    }
   ],
   "source": [
    "plt.figure(figsize=(10,6))\n",
    "sns.lineplot(data=score_pd)"
   ]
  },
  {
   "cell_type": "code",
   "execution_count": 18,
   "id": "f658a6de",
   "metadata": {},
   "outputs": [
    {
     "data": {
      "text/plain": [
       "<AxesSubplot:xlabel='Date'>"
      ]
     },
     "execution_count": 18,
     "metadata": {},
     "output_type": "execute_result"
    },
    {
     "data": {
      "image/png": "[encoded data removed]",
      "text/plain": [
       "<Figure size 2000x800 with 1 Axes>"
      ]
     },
     "metadata": {},
     "output_type": "display_data"
    }
   ],
   "source": [
    "#predicting with linear regression\n",
    "pred = reg_1.predict(X_test)\n",
    "fig, ax = plt.subplots(figsize=(20,8))\n",
    "sns.lineplot(data=y_test, ax = ax)\n",
    "sns.lineplot(y=pred, x = y_test.index, ax = ax)"
   ]
  },
  {
   "cell_type": "markdown",
   "id": "498ea96b",
   "metadata": {},
   "source": [
    "## Principal Component Analysis for Linear Regression"
   ]
  },
  {
   "cell_type": "markdown",
   "id": "a1f34fce",
   "metadata": {},
   "source": [
    "Since Linear Regression performed the best, we'll apply PCA to it to optimize the model's predictions"
   ]
  },
  {
   "cell_type": "code",
   "execution_count": 19,
   "id": "d1be8911",
   "metadata": {},
   "outputs": [],
   "source": [
    "model = LinearRegression()\n",
    "rmse_scores = []"
   ]
  },
  {
   "cell_type": "markdown",
   "id": "e1962941",
   "metadata": {},
   "source": [
    "We scale the X values to perform PCA"
   ]
  },
  {
   "cell_type": "code",
   "execution_count": 20,
   "id": "e57f0c91",
   "metadata": {},
   "outputs": [
    {
     "data": {
      "text/plain": [
       "array([3.03983449, 2.83553529, 2.56370432, 2.49135423, 3.1431521 ,\n",
       "       3.00802081, 4.61033241, 3.99450756, 4.81283005, 3.3136152 ])"
      ]
     },
     "execution_count": 20,
     "metadata": {},
     "output_type": "execute_result"
    }
   ],
   "source": [
    "pca = decomposition.PCA()\n",
    "X_train_new = scale(X_train)\n",
    "X_test_new = scale(X_test)\n",
    "model = LinearRegression().fit(X_train_new, y_train)\n",
    "lr_scores = -1 * cross_val_score(model, X_train_new, y_train, cv=cv, scoring='neg_root_mean_squared_error')\n",
    "lr_scores"
   ]
  },
  {
   "cell_type": "code",
   "execution_count": 21,
   "id": "b17636c6",
   "metadata": {},
   "outputs": [
    {
     "data": {
      "text/plain": [
       "3.3812886447721873"
      ]
     },
     "execution_count": 21,
     "metadata": {},
     "output_type": "execute_result"
    }
   ],
   "source": [
    "lr_score_train = np.mean(lr_scores)\n",
    "lr_score_train"
   ]
  },
  {
   "cell_type": "code",
   "execution_count": 22,
   "id": "b21daab4",
   "metadata": {},
   "outputs": [
    {
     "data": {
      "text/plain": [
       "(363, 4)"
      ]
     },
     "execution_count": 22,
     "metadata": {},
     "output_type": "execute_result"
    }
   ],
   "source": [
    "X_train_pc = pca.fit_transform(X_train_new)\n",
    "X_test_pc = pca.fit_transform(X_test_new)\n",
    "X_train_pc.shape"
   ]
  },
  {
   "cell_type": "code",
   "execution_count": 23,
   "id": "82478258",
   "metadata": {},
   "outputs": [
    {
     "data": {
      "text/plain": [
       "array([0.39364545, 0.2924734 , 0.24892886, 0.0649523 ])"
      ]
     },
     "execution_count": 23,
     "metadata": {},
     "output_type": "execute_result"
    }
   ],
   "source": [
    "pca.explained_variance_ratio_"
   ]
  },
  {
   "cell_type": "code",
   "execution_count": 24,
   "id": "963baf2a",
   "metadata": {},
   "outputs": [],
   "source": [
    "for i in range(1, X_train_pc.shape[1]+1):\n",
    "    rmse_score = -1 * cross_val_score(model, X_train_pc[:,:i], y_train, cv = cv, scoring='neg_root_mean_squared_error').mean()\n",
    "    rmse_scores.append(rmse_score)"
   ]
  },
  {
   "cell_type": "code",
   "execution_count": 25,
   "id": "5e43cc4f",
   "metadata": {},
   "outputs": [
    {
     "data": {
      "image/png": "[encoded data removed]",
      "text/plain": [
       "<Figure size 640x480 with 1 Axes>"
      ]
     },
     "metadata": {},
     "output_type": "display_data"
    }
   ],
   "source": [
    "plt.plot(rmse_scores, '-o')\n",
    "plt.xlabel('Number of principal component in regression')\n",
    "plt.ylabel('Cross Validation RMSE scores')\n",
    "plt.title(\"Low and Close\")\n",
    "plt.xlim(xmin=-1)\n",
    "plt.xticks(np.arange(X_train_pc.shape[1]), np.arange(1, X_train_pc.shape[1]+1))\n",
    "plt.axhline(y=lr_score_train, color='g', linestyle='-');"
   ]
  },
  {
   "cell_type": "code",
   "execution_count": 26,
   "id": "eaa174d8",
   "metadata": {},
   "outputs": [],
   "source": [
    "num_components = 4"
   ]
  },
  {
   "cell_type": "markdown",
   "id": "3096e738",
   "metadata": {},
   "source": [
    "### Predict with 4 Components"
   ]
  },
  {
   "cell_type": "code",
   "execution_count": 27,
   "id": "b3d53914",
   "metadata": {},
   "outputs": [
    {
     "data": {
      "text/plain": [
       "0.98528685897995"
      ]
     },
     "execution_count": 27,
     "metadata": {},
     "output_type": "execute_result"
    }
   ],
   "source": [
    "model_pc = LinearRegression().fit(X_train_pc[:,:num_components], y_train.values.ravel())\n",
    "#r2 score\n",
    "model_pc.score(X_train_pc[:,:num_components], y_train.values.ravel())"
   ]
  },
  {
   "cell_type": "code",
   "execution_count": 28,
   "id": "7f48538f",
   "metadata": {},
   "outputs": [
    {
     "data": {
      "text/plain": [
       "3.3812886447721895"
      ]
     },
     "execution_count": 28,
     "metadata": {},
     "output_type": "execute_result"
    }
   ],
   "source": [
    "#pred = model_pc.predict(X_test_pc[:,:num_components])\n",
    "pcr_score_train = -1 * cross_val_score(model_pc, \n",
    "                                       X_train_pc[:,:num_components], \n",
    "                                       y_train, \n",
    "                                       cv=cv, \n",
    "                                       scoring='neg_root_mean_squared_error').mean()\n",
    "pcr_score_train"
   ]
  },
  {
   "cell_type": "code",
   "execution_count": 29,
   "id": "8d52b4c8",
   "metadata": {},
   "outputs": [],
   "source": [
    "# Predict on test data\n",
    "preds = model_pc.predict(X_test_pc[:,:num_components])\n"
   ]
  },
  {
   "cell_type": "code",
   "execution_count": 30,
   "id": "386b0bbd",
   "metadata": {},
   "outputs": [
    {
     "name": "stdout",
     "output_type": "stream",
     "text": [
      "~~~~~~~~~~~~~~~~~~~~~~~~~~~~~~~~~~~~~~~~~~~~~~~~~~\n",
      "Linear Regression with PCA (Test)\n",
      "R2 Score : -2.266967616859706\n",
      "Mean Absolute Error Score : 42.25359617049145\n",
      "Mean Sqaured Error Score : 2775.4630636906045\n",
      "Root Mean Squared Error: 52.682663786967005\n"
     ]
    }
   ],
   "source": [
    "print(\"~\"*50)\n",
    "print(\"Linear Regression with PCA (Test)\")\n",
    "print(f\"R2 Score : {r2_score(y_test, preds)}\")\n",
    "print(f\"Mean Absolute Error Score : {mean_absolute_error(y_test,preds)}\")\n",
    "print(f\"Mean Sqaured Error Score : {mean_squared_error(y_test,preds)}\")\n",
    "print(f\"Root Mean Squared Error: {mean_squared_error(y_test,preds, squared=False)}\")"
   ]
  },
  {
   "cell_type": "code",
   "execution_count": 31,
   "id": "0df41566",
   "metadata": {},
   "outputs": [
    {
     "name": "stdout",
     "output_type": "stream",
     "text": [
      "~~~~~~~~~~~~~~~~~~~~~~~~~~~~~~~~~~~~~~~~~~~~~~~~~~\n",
      "Linear Regression with PCA (Train)\n",
      "R2 Score : 0.98528685897995\n",
      "Mean Absolute Error Score : 2.4225321868671714\n",
      "Mean Sqaured Error Score : 11.495495312492324\n",
      "Root Mean Squared Error: 3.390500746570088\n"
     ]
    }
   ],
   "source": [
    "preds = model_pc.predict(X_train_pc[:,:num_components])\n",
    "print(\"~\"*50)\n",
    "print(\"Linear Regression with PCA (Train)\")\n",
    "print(f\"R2 Score : {r2_score(y_train.values.ravel(), preds)}\")\n",
    "print(f\"Mean Absolute Error Score : {mean_absolute_error(y_train.values.ravel(),preds)}\")\n",
    "print(f\"Mean Sqaured Error Score : {mean_squared_error(y_train.values.ravel(),preds)}\")\n",
    "print(f\"Root Mean Squared Error: {mean_squared_error(y_train.values.ravel(),preds, squared=False)}\")"
   ]
  },
  {
   "cell_type": "markdown",
   "id": "3bb8f9fc",
   "metadata": {},
   "source": [
    "After applying PCA to the X values, we see that the R2 score improved for the training set, but the model did overall much worse on the testing set. Perhaps this means the model is overfitting."
   ]
  },
  {
   "cell_type": "markdown",
   "id": "325ee4af",
   "metadata": {},
   "source": [
    "## X is rest of dataset, y is close\n",
    "Since the adjusted close column is very similar to the close column, it will give us a perfect model r2 score of 1. Using this column would not yield any valuable results, so it won't be included in the X values."
   ]
  },
  {
   "cell_type": "code",
   "execution_count": 32,
   "id": "d973720a",
   "metadata": {},
   "outputs": [
    {
     "data": {
      "text/html": [
       "<div>\n",
       "<style scoped>\n",
       "    .dataframe tbody tr th:only-of-type {\n",
       "        vertical-align: middle;\n",
       "    }\n",
       "\n",
       "    .dataframe tbody tr th {\n",
       "        vertical-align: top;\n",
       "    }\n",
       "\n",
       "    .dataframe thead th {\n",
       "        text-align: right;\n",
       "    }\n",
       "</style>\n",
       "<table border=\"1\" class=\"dataframe\">\n",
       "  <thead>\n",
       "    <tr style=\"text-align: right;\">\n",
       "      <th></th>\n",
       "      <th>Open</th>\n",
       "      <th>High</th>\n",
       "      <th>Low</th>\n",
       "      <th>Close</th>\n",
       "      <th>Volume</th>\n",
       "    </tr>\n",
       "    <tr>\n",
       "      <th>Date</th>\n",
       "      <th></th>\n",
       "      <th></th>\n",
       "      <th></th>\n",
       "      <th></th>\n",
       "      <th></th>\n",
       "    </tr>\n",
       "  </thead>\n",
       "  <tbody>\n",
       "    <tr>\n",
       "      <th>2020-12-11</th>\n",
       "      <td>146.550003</td>\n",
       "      <td>151.500000</td>\n",
       "      <td>135.100006</td>\n",
       "      <td>139.250000</td>\n",
       "      <td>26980800</td>\n",
       "    </tr>\n",
       "    <tr>\n",
       "      <th>2020-12-14</th>\n",
       "      <td>135.000000</td>\n",
       "      <td>135.300003</td>\n",
       "      <td>125.160004</td>\n",
       "      <td>130.000000</td>\n",
       "      <td>16966100</td>\n",
       "    </tr>\n",
       "    <tr>\n",
       "      <th>2020-12-15</th>\n",
       "      <td>126.690002</td>\n",
       "      <td>127.599998</td>\n",
       "      <td>121.500000</td>\n",
       "      <td>124.800003</td>\n",
       "      <td>10914400</td>\n",
       "    </tr>\n",
       "    <tr>\n",
       "      <th>2020-12-16</th>\n",
       "      <td>125.830002</td>\n",
       "      <td>142.000000</td>\n",
       "      <td>124.910004</td>\n",
       "      <td>137.990005</td>\n",
       "      <td>20409600</td>\n",
       "    </tr>\n",
       "    <tr>\n",
       "      <th>2020-12-17</th>\n",
       "      <td>143.000000</td>\n",
       "      <td>152.449997</td>\n",
       "      <td>142.669998</td>\n",
       "      <td>147.050003</td>\n",
       "      <td>15054700</td>\n",
       "    </tr>\n",
       "  </tbody>\n",
       "</table>\n",
       "</div>"
      ],
      "text/plain": [
       "                  Open        High         Low       Close    Volume\n",
       "Date                                                                \n",
       "2020-12-11  146.550003  151.500000  135.100006  139.250000  26980800\n",
       "2020-12-14  135.000000  135.300003  125.160004  130.000000  16966100\n",
       "2020-12-15  126.690002  127.599998  121.500000  124.800003  10914400\n",
       "2020-12-16  125.830002  142.000000  124.910004  137.990005  20409600\n",
       "2020-12-17  143.000000  152.449997  142.669998  147.050003  15054700"
      ]
     },
     "execution_count": 32,
     "metadata": {},
     "output_type": "execute_result"
    }
   ],
   "source": [
    "df_n = df[['Open', 'High', 'Low', 'Close', 'Volume']].copy()\n",
    "df_n.head()"
   ]
  },
  {
   "cell_type": "code",
   "execution_count": 33,
   "id": "3e7debf2",
   "metadata": {},
   "outputs": [
    {
     "data": {
      "text/html": [
       "<div>\n",
       "<style scoped>\n",
       "    .dataframe tbody tr th:only-of-type {\n",
       "        vertical-align: middle;\n",
       "    }\n",
       "\n",
       "    .dataframe tbody tr th {\n",
       "        vertical-align: top;\n",
       "    }\n",
       "\n",
       "    .dataframe thead th {\n",
       "        text-align: right;\n",
       "    }\n",
       "</style>\n",
       "<table border=\"1\" class=\"dataframe\">\n",
       "  <thead>\n",
       "    <tr style=\"text-align: right;\">\n",
       "      <th></th>\n",
       "      <th>Open</th>\n",
       "      <th>High</th>\n",
       "      <th>Low</th>\n",
       "      <th>Close</th>\n",
       "      <th>Volume</th>\n",
       "      <th>Year</th>\n",
       "      <th>Month</th>\n",
       "      <th>dow</th>\n",
       "    </tr>\n",
       "    <tr>\n",
       "      <th>Date</th>\n",
       "      <th></th>\n",
       "      <th></th>\n",
       "      <th></th>\n",
       "      <th></th>\n",
       "      <th></th>\n",
       "      <th></th>\n",
       "      <th></th>\n",
       "      <th></th>\n",
       "    </tr>\n",
       "  </thead>\n",
       "  <tbody>\n",
       "    <tr>\n",
       "      <th>2020-12-11</th>\n",
       "      <td>146.550003</td>\n",
       "      <td>151.500000</td>\n",
       "      <td>135.100006</td>\n",
       "      <td>139.250000</td>\n",
       "      <td>26980800</td>\n",
       "      <td>2020</td>\n",
       "      <td>12</td>\n",
       "      <td>4</td>\n",
       "    </tr>\n",
       "    <tr>\n",
       "      <th>2020-12-14</th>\n",
       "      <td>135.000000</td>\n",
       "      <td>135.300003</td>\n",
       "      <td>125.160004</td>\n",
       "      <td>130.000000</td>\n",
       "      <td>16966100</td>\n",
       "      <td>2020</td>\n",
       "      <td>12</td>\n",
       "      <td>0</td>\n",
       "    </tr>\n",
       "    <tr>\n",
       "      <th>2020-12-15</th>\n",
       "      <td>126.690002</td>\n",
       "      <td>127.599998</td>\n",
       "      <td>121.500000</td>\n",
       "      <td>124.800003</td>\n",
       "      <td>10914400</td>\n",
       "      <td>2020</td>\n",
       "      <td>12</td>\n",
       "      <td>1</td>\n",
       "    </tr>\n",
       "    <tr>\n",
       "      <th>2020-12-16</th>\n",
       "      <td>125.830002</td>\n",
       "      <td>142.000000</td>\n",
       "      <td>124.910004</td>\n",
       "      <td>137.990005</td>\n",
       "      <td>20409600</td>\n",
       "      <td>2020</td>\n",
       "      <td>12</td>\n",
       "      <td>2</td>\n",
       "    </tr>\n",
       "    <tr>\n",
       "      <th>2020-12-17</th>\n",
       "      <td>143.000000</td>\n",
       "      <td>152.449997</td>\n",
       "      <td>142.669998</td>\n",
       "      <td>147.050003</td>\n",
       "      <td>15054700</td>\n",
       "      <td>2020</td>\n",
       "      <td>12</td>\n",
       "      <td>3</td>\n",
       "    </tr>\n",
       "  </tbody>\n",
       "</table>\n",
       "</div>"
      ],
      "text/plain": [
       "                  Open        High         Low       Close    Volume  Year  \\\n",
       "Date                                                                         \n",
       "2020-12-11  146.550003  151.500000  135.100006  139.250000  26980800  2020   \n",
       "2020-12-14  135.000000  135.300003  125.160004  130.000000  16966100  2020   \n",
       "2020-12-15  126.690002  127.599998  121.500000  124.800003  10914400  2020   \n",
       "2020-12-16  125.830002  142.000000  124.910004  137.990005  20409600  2020   \n",
       "2020-12-17  143.000000  152.449997  142.669998  147.050003  15054700  2020   \n",
       "\n",
       "            Month  dow  \n",
       "Date                    \n",
       "2020-12-11     12    4  \n",
       "2020-12-14     12    0  \n",
       "2020-12-15     12    1  \n",
       "2020-12-16     12    2  \n",
       "2020-12-17     12    3  "
      ]
     },
     "execution_count": 33,
     "metadata": {},
     "output_type": "execute_result"
    }
   ],
   "source": [
    "df_n = create_features_datetime(df_n)\n",
    "df_n.head()"
   ]
  },
  {
   "cell_type": "code",
   "execution_count": 34,
   "id": "d9f85a59",
   "metadata": {},
   "outputs": [
    {
     "data": {
      "text/html": [
       "<div>\n",
       "<style scoped>\n",
       "    .dataframe tbody tr th:only-of-type {\n",
       "        vertical-align: middle;\n",
       "    }\n",
       "\n",
       "    .dataframe tbody tr th {\n",
       "        vertical-align: top;\n",
       "    }\n",
       "\n",
       "    .dataframe thead th {\n",
       "        text-align: right;\n",
       "    }\n",
       "</style>\n",
       "<table border=\"1\" class=\"dataframe\">\n",
       "  <thead>\n",
       "    <tr style=\"text-align: right;\">\n",
       "      <th></th>\n",
       "      <th>Open</th>\n",
       "      <th>High</th>\n",
       "      <th>Low</th>\n",
       "      <th>Volume</th>\n",
       "      <th>Year</th>\n",
       "      <th>Month</th>\n",
       "      <th>dow</th>\n",
       "    </tr>\n",
       "    <tr>\n",
       "      <th>Date</th>\n",
       "      <th></th>\n",
       "      <th></th>\n",
       "      <th></th>\n",
       "      <th></th>\n",
       "      <th></th>\n",
       "      <th></th>\n",
       "      <th></th>\n",
       "    </tr>\n",
       "  </thead>\n",
       "  <tbody>\n",
       "    <tr>\n",
       "      <th>2020-12-11</th>\n",
       "      <td>146.550003</td>\n",
       "      <td>151.500000</td>\n",
       "      <td>135.100006</td>\n",
       "      <td>26980800</td>\n",
       "      <td>2020</td>\n",
       "      <td>12</td>\n",
       "      <td>4</td>\n",
       "    </tr>\n",
       "    <tr>\n",
       "      <th>2020-12-14</th>\n",
       "      <td>135.000000</td>\n",
       "      <td>135.300003</td>\n",
       "      <td>125.160004</td>\n",
       "      <td>16966100</td>\n",
       "      <td>2020</td>\n",
       "      <td>12</td>\n",
       "      <td>0</td>\n",
       "    </tr>\n",
       "    <tr>\n",
       "      <th>2020-12-15</th>\n",
       "      <td>126.690002</td>\n",
       "      <td>127.599998</td>\n",
       "      <td>121.500000</td>\n",
       "      <td>10914400</td>\n",
       "      <td>2020</td>\n",
       "      <td>12</td>\n",
       "      <td>1</td>\n",
       "    </tr>\n",
       "    <tr>\n",
       "      <th>2020-12-16</th>\n",
       "      <td>125.830002</td>\n",
       "      <td>142.000000</td>\n",
       "      <td>124.910004</td>\n",
       "      <td>20409600</td>\n",
       "      <td>2020</td>\n",
       "      <td>12</td>\n",
       "      <td>2</td>\n",
       "    </tr>\n",
       "    <tr>\n",
       "      <th>2020-12-17</th>\n",
       "      <td>143.000000</td>\n",
       "      <td>152.449997</td>\n",
       "      <td>142.669998</td>\n",
       "      <td>15054700</td>\n",
       "      <td>2020</td>\n",
       "      <td>12</td>\n",
       "      <td>3</td>\n",
       "    </tr>\n",
       "    <tr>\n",
       "      <th>...</th>\n",
       "      <td>...</td>\n",
       "      <td>...</td>\n",
       "      <td>...</td>\n",
       "      <td>...</td>\n",
       "      <td>...</td>\n",
       "      <td>...</td>\n",
       "      <td>...</td>\n",
       "    </tr>\n",
       "    <tr>\n",
       "      <th>2022-09-26</th>\n",
       "      <td>101.779999</td>\n",
       "      <td>105.360001</td>\n",
       "      <td>101.559998</td>\n",
       "      <td>5278800</td>\n",
       "      <td>2022</td>\n",
       "      <td>9</td>\n",
       "      <td>0</td>\n",
       "    </tr>\n",
       "    <tr>\n",
       "      <th>2022-09-27</th>\n",
       "      <td>106.040001</td>\n",
       "      <td>108.169998</td>\n",
       "      <td>104.139999</td>\n",
       "      <td>5081000</td>\n",
       "      <td>2022</td>\n",
       "      <td>9</td>\n",
       "      <td>1</td>\n",
       "    </tr>\n",
       "    <tr>\n",
       "      <th>2022-09-28</th>\n",
       "      <td>106.700996</td>\n",
       "      <td>111.129997</td>\n",
       "      <td>105.779999</td>\n",
       "      <td>4518200</td>\n",
       "      <td>2022</td>\n",
       "      <td>9</td>\n",
       "      <td>2</td>\n",
       "    </tr>\n",
       "    <tr>\n",
       "      <th>2022-09-29</th>\n",
       "      <td>109.190002</td>\n",
       "      <td>109.474998</td>\n",
       "      <td>105.169998</td>\n",
       "      <td>4259500</td>\n",
       "      <td>2022</td>\n",
       "      <td>9</td>\n",
       "      <td>3</td>\n",
       "    </tr>\n",
       "    <tr>\n",
       "      <th>2022-09-30</th>\n",
       "      <td>104.760002</td>\n",
       "      <td>109.080002</td>\n",
       "      <td>104.730003</td>\n",
       "      <td>4747800</td>\n",
       "      <td>2022</td>\n",
       "      <td>9</td>\n",
       "      <td>4</td>\n",
       "    </tr>\n",
       "  </tbody>\n",
       "</table>\n",
       "<p>454 rows × 7 columns</p>\n",
       "</div>"
      ],
      "text/plain": [
       "                  Open        High         Low    Volume  Year  Month  dow\n",
       "Date                                                                      \n",
       "2020-12-11  146.550003  151.500000  135.100006  26980800  2020     12    4\n",
       "2020-12-14  135.000000  135.300003  125.160004  16966100  2020     12    0\n",
       "2020-12-15  126.690002  127.599998  121.500000  10914400  2020     12    1\n",
       "2020-12-16  125.830002  142.000000  124.910004  20409600  2020     12    2\n",
       "2020-12-17  143.000000  152.449997  142.669998  15054700  2020     12    3\n",
       "...                ...         ...         ...       ...   ...    ...  ...\n",
       "2022-09-26  101.779999  105.360001  101.559998   5278800  2022      9    0\n",
       "2022-09-27  106.040001  108.169998  104.139999   5081000  2022      9    1\n",
       "2022-09-28  106.700996  111.129997  105.779999   4518200  2022      9    2\n",
       "2022-09-29  109.190002  109.474998  105.169998   4259500  2022      9    3\n",
       "2022-09-30  104.760002  109.080002  104.730003   4747800  2022      9    4\n",
       "\n",
       "[454 rows x 7 columns]"
      ]
     },
     "execution_count": 34,
     "metadata": {},
     "output_type": "execute_result"
    }
   ],
   "source": [
    "X = df_n.drop('Close', axis=1)\n",
    "y = df_n[['Close']]\n",
    "X"
   ]
  },
  {
   "cell_type": "code",
   "execution_count": 35,
   "id": "70f804a3",
   "metadata": {},
   "outputs": [
    {
     "data": {
      "text/plain": [
       "((363, 7), (91, 7), (363, 1), (91, 1))"
      ]
     },
     "execution_count": 35,
     "metadata": {},
     "output_type": "execute_result"
    }
   ],
   "source": [
    "X_train, X_test, y_train, y_test = train_test_split(X, y, test_size=0.2, random_state=42)\n",
    "X_train.shape,X_test.shape,y_train.shape,y_test.shape"
   ]
  },
  {
   "cell_type": "markdown",
   "id": "5495acef",
   "metadata": {},
   "source": [
    "### Regression Models"
   ]
  },
  {
   "cell_type": "code",
   "execution_count": 36,
   "id": "8591f28c",
   "metadata": {},
   "outputs": [],
   "source": [
    "reg_1 = LinearRegression(n_jobs=-1)\n",
    "reg_2 = RandomForestRegressor(n_estimators=500,n_jobs=-1)\n",
    "reg_3 = LassoCV()\n",
    "reg_4 = RidgeCV()\n",
    "\n",
    "reg_list = [reg_1,reg_2, reg_3, reg_4]"
   ]
  },
  {
   "cell_type": "code",
   "execution_count": 37,
   "id": "c1d1dd50",
   "metadata": {},
   "outputs": [
    {
     "name": "stdout",
     "output_type": "stream",
     "text": [
      "Fitting LinearRegression done\n",
      "--------------------------------------------------\n",
      "Fitting RandomForestRegressor done\n",
      "--------------------------------------------------\n",
      "Fitting LassoCV done\n",
      "--------------------------------------------------\n",
      "Fitting RidgeCV done\n",
      "--------------------------------------------------\n",
      "CPU times: user 1.54 s, sys: 197 ms, total: 1.73 s\n",
      "Wall time: 1.2 s\n"
     ]
    }
   ],
   "source": [
    "%%time\n",
    "for reg in reg_list:\n",
    "    reg_name=reg.__class__.__name__\n",
    "    reg.fit(X_train,y_train.values.ravel())\n",
    "    print(f\"Fitting {reg_name} done\")\n",
    "    print(\"-\"*50)"
   ]
  },
  {
   "cell_type": "code",
   "execution_count": 38,
   "id": "b3eda710",
   "metadata": {},
   "outputs": [
    {
     "name": "stdout",
     "output_type": "stream",
     "text": [
      "[0.31925854 0.34941047 0.70172766 0.33092094 0.69865449 0.87889748\n",
      " 0.58726318 0.77206543]\n",
      "~~~~~~~~~~~~~~~~~~~~~~~~~~~~~~~~~~~~~~~~~~~~~~~~~~\n",
      "LinearRegression\n",
      "R2 Score : 0.9912855022733954\n",
      "Mean Absolute Error Score : 1.8771671552634135\n",
      "Mean Sqaured Error Score : 7.403430151553097\n",
      "Root Mean Squared Error: 2.720924503096897\n",
      "[0.12087952 0.01613407 0.55990971 0.37708319 0.03220798 0.63230443\n",
      " 0.63344003 0.14594556]\n",
      "~~~~~~~~~~~~~~~~~~~~~~~~~~~~~~~~~~~~~~~~~~~~~~~~~~\n",
      "RandomForestRegressor\n",
      "R2 Score : 0.9861919329781494\n",
      "Mean Absolute Error Score : 2.519191873560442\n",
      "Mean Sqaured Error Score : 11.730688667477043\n",
      "Root Mean Squared Error: 3.425009294509585\n",
      "[0.50586197 0.47267142 0.59348466 0.45080662 0.44230521 0.81743758\n",
      " 0.23800173 0.22707438]\n",
      "~~~~~~~~~~~~~~~~~~~~~~~~~~~~~~~~~~~~~~~~~~~~~~~~~~\n",
      "LassoCV\n",
      "R2 Score : 0.023572175619934965\n",
      "Mean Absolute Error Score : 23.22168265745844\n",
      "Mean Sqaured Error Score : 829.5274636152062\n",
      "Root Mean Squared Error: 28.80151842551372\n",
      "[0.6285492  0.96612191 0.55992756 0.96323575 0.28577587 0.62047437\n",
      " 0.74636644 0.04233836]\n",
      "~~~~~~~~~~~~~~~~~~~~~~~~~~~~~~~~~~~~~~~~~~~~~~~~~~\n",
      "RidgeCV\n",
      "R2 Score : 0.9860796469424764\n",
      "Mean Absolute Error Score : 2.5247275025690774\n",
      "Mean Sqaured Error Score : 11.826081637695147\n",
      "Root Mean Squared Error: 3.4389070411535037\n",
      "~~~~~~~~~~~~~~~~~~~~~~~~~~~~~~~~~~~~~~~~~~~~~~~~~~\n"
     ]
    }
   ],
   "source": [
    "score_dict={}\n",
    "\n",
    "for reg in reg_list:\n",
    "    reg_name=reg.__class__.__name__\n",
    "    n_coeff = X_test.shape[1] + 1\n",
    "    coefficients = rand(n_coeff)\n",
    "    print(coefficients)\n",
    "    pred = reg.predict(X_test)\n",
    "    print(\"~\"*50)\n",
    "    print(reg_name)\n",
    "    print(f\"R2 Score : {r2_score(y_test, pred)}\")\n",
    "    print(f\"Mean Absolute Error Score : {mean_absolute_error(y_test,pred)}\")\n",
    "    print(f\"Mean Sqaured Error Score : {mean_squared_error(y_test,pred)}\")\n",
    "    print(f\"Root Mean Squared Error: {mean_squared_error(y_test,pred, squared=False)}\")\n",
    "    score_dict[reg_name]={\n",
    "        \"R2 Score\":r2_score(y_test,pred),\n",
    "        \"Mean Absolute Error Score\":mean_absolute_error(y_test,pred),\n",
    "        \"Mean Squared Error Score\":mean_squared_error(y_test,pred),\n",
    "        \"Root Mean Squared Error\": mean_squared_error(y_test,pred, squared=False)\n",
    "    }\n",
    "print(\"~\"*50)"
   ]
  },
  {
   "cell_type": "code",
   "execution_count": 39,
   "id": "ca36b72d",
   "metadata": {},
   "outputs": [
    {
     "data": {
      "text/html": [
       "<div>\n",
       "<style scoped>\n",
       "    .dataframe tbody tr th:only-of-type {\n",
       "        vertical-align: middle;\n",
       "    }\n",
       "\n",
       "    .dataframe tbody tr th {\n",
       "        vertical-align: top;\n",
       "    }\n",
       "\n",
       "    .dataframe thead th {\n",
       "        text-align: right;\n",
       "    }\n",
       "</style>\n",
       "<table border=\"1\" class=\"dataframe\">\n",
       "  <thead>\n",
       "    <tr style=\"text-align: right;\">\n",
       "      <th></th>\n",
       "      <th>R2 Score</th>\n",
       "      <th>Mean Absolute Error Score</th>\n",
       "      <th>Mean Squared Error Score</th>\n",
       "      <th>Root Mean Squared Error</th>\n",
       "    </tr>\n",
       "  </thead>\n",
       "  <tbody>\n",
       "    <tr>\n",
       "      <th>LinearRegression</th>\n",
       "      <td>0.991286</td>\n",
       "      <td>1.877167</td>\n",
       "      <td>7.403430</td>\n",
       "      <td>2.720925</td>\n",
       "    </tr>\n",
       "    <tr>\n",
       "      <th>RandomForestRegressor</th>\n",
       "      <td>0.986192</td>\n",
       "      <td>2.519192</td>\n",
       "      <td>11.730689</td>\n",
       "      <td>3.425009</td>\n",
       "    </tr>\n",
       "    <tr>\n",
       "      <th>RidgeCV</th>\n",
       "      <td>0.986080</td>\n",
       "      <td>2.524728</td>\n",
       "      <td>11.826082</td>\n",
       "      <td>3.438907</td>\n",
       "    </tr>\n",
       "    <tr>\n",
       "      <th>LassoCV</th>\n",
       "      <td>0.023572</td>\n",
       "      <td>23.221683</td>\n",
       "      <td>829.527464</td>\n",
       "      <td>28.801518</td>\n",
       "    </tr>\n",
       "  </tbody>\n",
       "</table>\n",
       "</div>"
      ],
      "text/plain": [
       "                       R2 Score  Mean Absolute Error Score  \\\n",
       "LinearRegression       0.991286                   1.877167   \n",
       "RandomForestRegressor  0.986192                   2.519192   \n",
       "RidgeCV                0.986080                   2.524728   \n",
       "LassoCV                0.023572                  23.221683   \n",
       "\n",
       "                       Mean Squared Error Score  Root Mean Squared Error  \n",
       "LinearRegression                       7.403430                 2.720925  \n",
       "RandomForestRegressor                 11.730689                 3.425009  \n",
       "RidgeCV                               11.826082                 3.438907  \n",
       "LassoCV                              829.527464                28.801518  "
      ]
     },
     "execution_count": 39,
     "metadata": {},
     "output_type": "execute_result"
    }
   ],
   "source": [
    "score_pd=pd.DataFrame(score_dict).transpose().sort_values(\"R2 Score\",ascending=False)\n",
    "score_pd"
   ]
  },
  {
   "cell_type": "markdown",
   "id": "83c3c83e",
   "metadata": {},
   "source": [
    "From the table above we see that Linear Regression once again outperformed the rest of the models. The rest of the models did almost the same except the LassoCV model."
   ]
  },
  {
   "cell_type": "markdown",
   "id": "ef009433",
   "metadata": {},
   "source": [
    "## Principal Component Analysis with Linear Regression (2)"
   ]
  },
  {
   "cell_type": "code",
   "execution_count": 40,
   "id": "83272398",
   "metadata": {},
   "outputs": [],
   "source": [
    "model = LinearRegression()\n",
    "rmse_scores = []"
   ]
  },
  {
   "cell_type": "code",
   "execution_count": 41,
   "id": "23c57a5d",
   "metadata": {},
   "outputs": [
    {
     "data": {
      "text/plain": [
       "2.1443063219188785"
      ]
     },
     "execution_count": 41,
     "metadata": {},
     "output_type": "execute_result"
    }
   ],
   "source": [
    "pca = decomposition.PCA()\n",
    "X_train_new = scale(X_train)\n",
    "X_test_new = scale(X_test)\n",
    "X_train_new = scale(X_train)\n",
    "X_test_new = scale(X_test)\n",
    "model = LinearRegression().fit(X_train_new, y_train)\n",
    "lr_scores = -1 * cross_val_score(model, X_train_new, y_train, cv=cv, scoring='neg_root_mean_squared_error')\n",
    "lr_score_train = np.mean(lr_scores)\n",
    "lr_score_train"
   ]
  },
  {
   "cell_type": "code",
   "execution_count": 42,
   "id": "884fc990",
   "metadata": {},
   "outputs": [
    {
     "data": {
      "text/plain": [
       "(363, 7)"
      ]
     },
     "execution_count": 42,
     "metadata": {},
     "output_type": "execute_result"
    }
   ],
   "source": [
    "X_train_pc = pca.fit_transform(X_train_new)\n",
    "X_test_pc = pca.fit_transform(X_test_new)\n",
    "X_train_pc.shape"
   ]
  },
  {
   "cell_type": "code",
   "execution_count": 43,
   "id": "e437d903",
   "metadata": {},
   "outputs": [],
   "source": [
    "for i in range(1, X_train_pc.shape[1]+1):\n",
    "    rmse_score = -1 * cross_val_score(model, X_train_pc[:,:i], y_train, cv = cv, scoring='neg_root_mean_squared_error').mean()\n",
    "    rmse_scores.append(rmse_score)"
   ]
  },
  {
   "cell_type": "code",
   "execution_count": 44,
   "id": "4fe36272",
   "metadata": {},
   "outputs": [
    {
     "data": {
      "image/png": "[encoded data removed]",
      "text/plain": [
       "<Figure size 640x480 with 1 Axes>"
      ]
     },
     "metadata": {},
     "output_type": "display_data"
    }
   ],
   "source": [
    "plt.plot(rmse_scores, '-o')\n",
    "plt.xlabel('Number of principal component in regression')\n",
    "plt.ylabel('Cross Validation RMSE scores')\n",
    "plt.title(\"Low and Close\")\n",
    "plt.xlim(xmin=-1)\n",
    "plt.xticks(np.arange(X_train_pc.shape[1]), np.arange(1, X_train_pc.shape[1]+1))\n",
    "plt.axhline(y=lr_score_train, color='g', linestyle=\"-\");"
   ]
  },
  {
   "cell_type": "markdown",
   "id": "a8b1f082",
   "metadata": {},
   "source": [
    "### Predict with 7 components"
   ]
  },
  {
   "cell_type": "code",
   "execution_count": 45,
   "id": "9d611f92",
   "metadata": {},
   "outputs": [],
   "source": [
    "num_components = 7"
   ]
  },
  {
   "cell_type": "code",
   "execution_count": 46,
   "id": "734d9b5b",
   "metadata": {},
   "outputs": [
    {
     "data": {
      "text/plain": [
       "0.994427075868242"
      ]
     },
     "execution_count": 46,
     "metadata": {},
     "output_type": "execute_result"
    }
   ],
   "source": [
    "model_pc = LinearRegression().fit(X_train_pc[:,:num_components], y_train.values.ravel())\n",
    "#r2 score\n",
    "model_pc.score(X_train_pc[:,:num_components], y_train.values.ravel())"
   ]
  },
  {
   "cell_type": "code",
   "execution_count": 47,
   "id": "57a1dfb8",
   "metadata": {},
   "outputs": [
    {
     "data": {
      "text/plain": [
       "2.144306321918883"
      ]
     },
     "execution_count": 47,
     "metadata": {},
     "output_type": "execute_result"
    }
   ],
   "source": [
    "pcr_score_train = -1 * cross_val_score(model_pc, \n",
    "                                       X_train_pc[:,:num_components], \n",
    "                                       y_train, \n",
    "                                       cv=cv, \n",
    "                                       scoring='neg_root_mean_squared_error').mean()\n",
    "pcr_score_train"
   ]
  },
  {
   "cell_type": "code",
   "execution_count": 48,
   "id": "02801011",
   "metadata": {},
   "outputs": [],
   "source": [
    "preds = model_pc.predict(X_test_pc[:,:num_components])"
   ]
  },
  {
   "cell_type": "code",
   "execution_count": 49,
   "id": "7490f019",
   "metadata": {},
   "outputs": [
    {
     "name": "stdout",
     "output_type": "stream",
     "text": [
      "~~~~~~~~~~~~~~~~~~~~~~~~~~~~~~~~~~~~~~~~~~~~~~~~~~\n",
      "Linear Regression with PCA (Test)\n",
      "R2 Score : 0.9209425439008043\n",
      "Mean Absolute Error Score : 6.255387684453639\n",
      "Mean Sqaured Error Score : 67.16352135855341\n",
      "Root Mean Squared Error: 8.195335341433772\n"
     ]
    }
   ],
   "source": [
    "print(\"~\"*50)\n",
    "print(\"Linear Regression with PCA (Test)\")\n",
    "print(f\"R2 Score : {r2_score(y_test, preds)}\")\n",
    "print(f\"Mean Absolute Error Score : {mean_absolute_error(y_test,preds)}\")\n",
    "print(f\"Mean Sqaured Error Score : {mean_squared_error(y_test,preds)}\")\n",
    "print(f\"Root Mean Squared Error: {mean_squared_error(y_test,preds, squared=False)}\")"
   ]
  },
  {
   "cell_type": "code",
   "execution_count": 50,
   "id": "5cecc388",
   "metadata": {},
   "outputs": [
    {
     "name": "stdout",
     "output_type": "stream",
     "text": [
      "~~~~~~~~~~~~~~~~~~~~~~~~~~~~~~~~~~~~~~~~~~~~~~~~~~\n",
      "Linear Regression with PCA (Train)\n",
      "R2 Score : 0.994427075868242\n",
      "Mean Absolute Error Score : 1.552521154308507\n",
      "Mean Sqaured Error Score : 4.35417040767834\n",
      "Root Mean Squared Error: 2.0866649006676514\n"
     ]
    }
   ],
   "source": [
    "preds = model_pc.predict(X_train_pc[:,:num_components])\n",
    "print(\"~\"*50)\n",
    "print(\"Linear Regression with PCA (Train)\")\n",
    "print(f\"R2 Score : {r2_score(y_train.values.ravel(), preds)}\")\n",
    "print(f\"Mean Absolute Error Score : {mean_absolute_error(y_train.values.ravel(),preds)}\")\n",
    "print(f\"Mean Sqaured Error Score : {mean_squared_error(y_train.values.ravel(),preds)}\")\n",
    "print(f\"Root Mean Squared Error: {mean_squared_error(y_train.values.ravel(),preds, squared=False)}\")"
   ]
  },
  {
   "cell_type": "markdown",
   "id": "3df94f53",
   "metadata": {},
   "source": [
    "The PCA tuned Linear Regression Model seemed to underperform in comparison to the original model when given test data. The R2 score is slightly less, but the Mean Squared Error is much higher. \n",
    "However, the model performed much better when given the training data, indicating that the model may be overfitting."
   ]
  },
  {
   "cell_type": "markdown",
   "id": "11556c4f",
   "metadata": {},
   "source": [
    "## Predicting Highest Value"
   ]
  },
  {
   "cell_type": "markdown",
   "id": "8125c85d",
   "metadata": {},
   "source": [
    "To predict the highest value I'll use the open column."
   ]
  },
  {
   "cell_type": "code",
   "execution_count": 51,
   "id": "1e957923",
   "metadata": {},
   "outputs": [
    {
     "data": {
      "text/html": [
       "<div>\n",
       "<style scoped>\n",
       "    .dataframe tbody tr th:only-of-type {\n",
       "        vertical-align: middle;\n",
       "    }\n",
       "\n",
       "    .dataframe tbody tr th {\n",
       "        vertical-align: top;\n",
       "    }\n",
       "\n",
       "    .dataframe thead th {\n",
       "        text-align: right;\n",
       "    }\n",
       "</style>\n",
       "<table border=\"1\" class=\"dataframe\">\n",
       "  <thead>\n",
       "    <tr style=\"text-align: right;\">\n",
       "      <th></th>\n",
       "      <th>Open</th>\n",
       "      <th>High</th>\n",
       "    </tr>\n",
       "    <tr>\n",
       "      <th>Date</th>\n",
       "      <th></th>\n",
       "      <th></th>\n",
       "    </tr>\n",
       "  </thead>\n",
       "  <tbody>\n",
       "    <tr>\n",
       "      <th>2020-12-11</th>\n",
       "      <td>146.550003</td>\n",
       "      <td>151.500000</td>\n",
       "    </tr>\n",
       "    <tr>\n",
       "      <th>2020-12-14</th>\n",
       "      <td>135.000000</td>\n",
       "      <td>135.300003</td>\n",
       "    </tr>\n",
       "    <tr>\n",
       "      <th>2020-12-15</th>\n",
       "      <td>126.690002</td>\n",
       "      <td>127.599998</td>\n",
       "    </tr>\n",
       "    <tr>\n",
       "      <th>2020-12-16</th>\n",
       "      <td>125.830002</td>\n",
       "      <td>142.000000</td>\n",
       "    </tr>\n",
       "    <tr>\n",
       "      <th>2020-12-17</th>\n",
       "      <td>143.000000</td>\n",
       "      <td>152.449997</td>\n",
       "    </tr>\n",
       "  </tbody>\n",
       "</table>\n",
       "</div>"
      ],
      "text/plain": [
       "                  Open        High\n",
       "Date                              \n",
       "2020-12-11  146.550003  151.500000\n",
       "2020-12-14  135.000000  135.300003\n",
       "2020-12-15  126.690002  127.599998\n",
       "2020-12-16  125.830002  142.000000\n",
       "2020-12-17  143.000000  152.449997"
      ]
     },
     "execution_count": 51,
     "metadata": {},
     "output_type": "execute_result"
    }
   ],
   "source": [
    "df_tr = df[['Open', 'High']].copy()\n",
    "df_tr.head()"
   ]
  },
  {
   "cell_type": "code",
   "execution_count": 52,
   "id": "bb89c7ad",
   "metadata": {},
   "outputs": [
    {
     "data": {
      "text/html": [
       "<div>\n",
       "<style scoped>\n",
       "    .dataframe tbody tr th:only-of-type {\n",
       "        vertical-align: middle;\n",
       "    }\n",
       "\n",
       "    .dataframe tbody tr th {\n",
       "        vertical-align: top;\n",
       "    }\n",
       "\n",
       "    .dataframe thead th {\n",
       "        text-align: right;\n",
       "    }\n",
       "</style>\n",
       "<table border=\"1\" class=\"dataframe\">\n",
       "  <thead>\n",
       "    <tr style=\"text-align: right;\">\n",
       "      <th></th>\n",
       "      <th>Open</th>\n",
       "      <th>High</th>\n",
       "      <th>Year</th>\n",
       "      <th>Month</th>\n",
       "      <th>dow</th>\n",
       "    </tr>\n",
       "    <tr>\n",
       "      <th>Date</th>\n",
       "      <th></th>\n",
       "      <th></th>\n",
       "      <th></th>\n",
       "      <th></th>\n",
       "      <th></th>\n",
       "    </tr>\n",
       "  </thead>\n",
       "  <tbody>\n",
       "    <tr>\n",
       "      <th>2020-12-11</th>\n",
       "      <td>146.550003</td>\n",
       "      <td>151.500000</td>\n",
       "      <td>2020</td>\n",
       "      <td>12</td>\n",
       "      <td>4</td>\n",
       "    </tr>\n",
       "    <tr>\n",
       "      <th>2020-12-14</th>\n",
       "      <td>135.000000</td>\n",
       "      <td>135.300003</td>\n",
       "      <td>2020</td>\n",
       "      <td>12</td>\n",
       "      <td>0</td>\n",
       "    </tr>\n",
       "    <tr>\n",
       "      <th>2020-12-15</th>\n",
       "      <td>126.690002</td>\n",
       "      <td>127.599998</td>\n",
       "      <td>2020</td>\n",
       "      <td>12</td>\n",
       "      <td>1</td>\n",
       "    </tr>\n",
       "    <tr>\n",
       "      <th>2020-12-16</th>\n",
       "      <td>125.830002</td>\n",
       "      <td>142.000000</td>\n",
       "      <td>2020</td>\n",
       "      <td>12</td>\n",
       "      <td>2</td>\n",
       "    </tr>\n",
       "    <tr>\n",
       "      <th>2020-12-17</th>\n",
       "      <td>143.000000</td>\n",
       "      <td>152.449997</td>\n",
       "      <td>2020</td>\n",
       "      <td>12</td>\n",
       "      <td>3</td>\n",
       "    </tr>\n",
       "  </tbody>\n",
       "</table>\n",
       "</div>"
      ],
      "text/plain": [
       "                  Open        High  Year  Month  dow\n",
       "Date                                                \n",
       "2020-12-11  146.550003  151.500000  2020     12    4\n",
       "2020-12-14  135.000000  135.300003  2020     12    0\n",
       "2020-12-15  126.690002  127.599998  2020     12    1\n",
       "2020-12-16  125.830002  142.000000  2020     12    2\n",
       "2020-12-17  143.000000  152.449997  2020     12    3"
      ]
     },
     "execution_count": 52,
     "metadata": {},
     "output_type": "execute_result"
    }
   ],
   "source": [
    "df_tr = create_features_datetime(df_tr)\n",
    "df_tr.head()"
   ]
  },
  {
   "cell_type": "code",
   "execution_count": 53,
   "id": "c5a5b63b",
   "metadata": {},
   "outputs": [
    {
     "data": {
      "text/html": [
       "<div>\n",
       "<style scoped>\n",
       "    .dataframe tbody tr th:only-of-type {\n",
       "        vertical-align: middle;\n",
       "    }\n",
       "\n",
       "    .dataframe tbody tr th {\n",
       "        vertical-align: top;\n",
       "    }\n",
       "\n",
       "    .dataframe thead th {\n",
       "        text-align: right;\n",
       "    }\n",
       "</style>\n",
       "<table border=\"1\" class=\"dataframe\">\n",
       "  <thead>\n",
       "    <tr style=\"text-align: right;\">\n",
       "      <th></th>\n",
       "      <th>Open</th>\n",
       "      <th>Year</th>\n",
       "      <th>Month</th>\n",
       "      <th>dow</th>\n",
       "    </tr>\n",
       "    <tr>\n",
       "      <th>Date</th>\n",
       "      <th></th>\n",
       "      <th></th>\n",
       "      <th></th>\n",
       "      <th></th>\n",
       "    </tr>\n",
       "  </thead>\n",
       "  <tbody>\n",
       "    <tr>\n",
       "      <th>2020-12-11</th>\n",
       "      <td>146.550003</td>\n",
       "      <td>2020</td>\n",
       "      <td>12</td>\n",
       "      <td>4</td>\n",
       "    </tr>\n",
       "    <tr>\n",
       "      <th>2020-12-14</th>\n",
       "      <td>135.000000</td>\n",
       "      <td>2020</td>\n",
       "      <td>12</td>\n",
       "      <td>0</td>\n",
       "    </tr>\n",
       "    <tr>\n",
       "      <th>2020-12-15</th>\n",
       "      <td>126.690002</td>\n",
       "      <td>2020</td>\n",
       "      <td>12</td>\n",
       "      <td>1</td>\n",
       "    </tr>\n",
       "    <tr>\n",
       "      <th>2020-12-16</th>\n",
       "      <td>125.830002</td>\n",
       "      <td>2020</td>\n",
       "      <td>12</td>\n",
       "      <td>2</td>\n",
       "    </tr>\n",
       "    <tr>\n",
       "      <th>2020-12-17</th>\n",
       "      <td>143.000000</td>\n",
       "      <td>2020</td>\n",
       "      <td>12</td>\n",
       "      <td>3</td>\n",
       "    </tr>\n",
       "    <tr>\n",
       "      <th>...</th>\n",
       "      <td>...</td>\n",
       "      <td>...</td>\n",
       "      <td>...</td>\n",
       "      <td>...</td>\n",
       "    </tr>\n",
       "    <tr>\n",
       "      <th>2022-09-26</th>\n",
       "      <td>101.779999</td>\n",
       "      <td>2022</td>\n",
       "      <td>9</td>\n",
       "      <td>0</td>\n",
       "    </tr>\n",
       "    <tr>\n",
       "      <th>2022-09-27</th>\n",
       "      <td>106.040001</td>\n",
       "      <td>2022</td>\n",
       "      <td>9</td>\n",
       "      <td>1</td>\n",
       "    </tr>\n",
       "    <tr>\n",
       "      <th>2022-09-28</th>\n",
       "      <td>106.700996</td>\n",
       "      <td>2022</td>\n",
       "      <td>9</td>\n",
       "      <td>2</td>\n",
       "    </tr>\n",
       "    <tr>\n",
       "      <th>2022-09-29</th>\n",
       "      <td>109.190002</td>\n",
       "      <td>2022</td>\n",
       "      <td>9</td>\n",
       "      <td>3</td>\n",
       "    </tr>\n",
       "    <tr>\n",
       "      <th>2022-09-30</th>\n",
       "      <td>104.760002</td>\n",
       "      <td>2022</td>\n",
       "      <td>9</td>\n",
       "      <td>4</td>\n",
       "    </tr>\n",
       "  </tbody>\n",
       "</table>\n",
       "<p>454 rows × 4 columns</p>\n",
       "</div>"
      ],
      "text/plain": [
       "                  Open  Year  Month  dow\n",
       "Date                                    \n",
       "2020-12-11  146.550003  2020     12    4\n",
       "2020-12-14  135.000000  2020     12    0\n",
       "2020-12-15  126.690002  2020     12    1\n",
       "2020-12-16  125.830002  2020     12    2\n",
       "2020-12-17  143.000000  2020     12    3\n",
       "...                ...   ...    ...  ...\n",
       "2022-09-26  101.779999  2022      9    0\n",
       "2022-09-27  106.040001  2022      9    1\n",
       "2022-09-28  106.700996  2022      9    2\n",
       "2022-09-29  109.190002  2022      9    3\n",
       "2022-09-30  104.760002  2022      9    4\n",
       "\n",
       "[454 rows x 4 columns]"
      ]
     },
     "execution_count": 53,
     "metadata": {},
     "output_type": "execute_result"
    }
   ],
   "source": [
    "X = df_tr.drop('High', axis=1)\n",
    "y = df_tr[['High']]\n",
    "X"
   ]
  },
  {
   "cell_type": "code",
   "execution_count": 54,
   "id": "e3615ced",
   "metadata": {},
   "outputs": [],
   "source": [
    "X_train, X_test, y_train, y_test = train_test_split(X, y, test_size=0.2, random_state=42)"
   ]
  },
  {
   "cell_type": "code",
   "execution_count": 55,
   "id": "f452e89b",
   "metadata": {},
   "outputs": [
    {
     "data": {
      "text/plain": [
       "((363, 4), (91, 4), (363, 1), (91, 1))"
      ]
     },
     "execution_count": 55,
     "metadata": {},
     "output_type": "execute_result"
    }
   ],
   "source": [
    "X_train.shape,X_test.shape,y_train.shape,y_test.shape"
   ]
  },
  {
   "cell_type": "markdown",
   "id": "67decf1e",
   "metadata": {},
   "source": [
    "### Regression Models"
   ]
  },
  {
   "cell_type": "code",
   "execution_count": 56,
   "id": "8e268b98",
   "metadata": {},
   "outputs": [],
   "source": [
    "cv = KFold(n_splits=10, shuffle=True, random_state=42)"
   ]
  },
  {
   "cell_type": "code",
   "execution_count": 57,
   "id": "46056b74",
   "metadata": {},
   "outputs": [],
   "source": [
    "reg_1 = LinearRegression(n_jobs=-1)\n",
    "reg_2 = RandomForestRegressor(n_estimators=500,n_jobs=-1)\n",
    "reg_3 = LassoCV()\n",
    "reg_4 = RidgeCV()\n",
    "\n",
    "reg_list = [reg_1,reg_2, reg_3, reg_4]"
   ]
  },
  {
   "cell_type": "code",
   "execution_count": 58,
   "id": "428a7c73",
   "metadata": {},
   "outputs": [
    {
     "name": "stdout",
     "output_type": "stream",
     "text": [
      "Fitting LinearRegression done\n",
      "--------------------------------------------------\n",
      "Fitting RandomForestRegressor done\n",
      "--------------------------------------------------\n",
      "Fitting LassoCV done\n",
      "--------------------------------------------------\n",
      "Fitting RidgeCV done\n",
      "--------------------------------------------------\n",
      "CPU times: user 1.32 s, sys: 210 ms, total: 1.53 s\n",
      "Wall time: 1.25 s\n"
     ]
    }
   ],
   "source": [
    "%%time\n",
    "for reg in reg_list:\n",
    "    reg_name=reg.__class__.__name__\n",
    "    reg.fit(X_train,y_train.values.ravel())\n",
    "    print(f\"Fitting {reg_name} done\")\n",
    "    print(\"-\"*50)"
   ]
  },
  {
   "cell_type": "code",
   "execution_count": 59,
   "id": "692c5bfd",
   "metadata": {},
   "outputs": [
    {
     "name": "stdout",
     "output_type": "stream",
     "text": [
      "[0.78415813 0.03571602 0.19091042 0.08697122 0.80515881]\n",
      "~~~~~~~~~~~~~~~~~~~~~~~~~~~~~~~~~~~~~~~~~~~~~~~~~~\n",
      "LinearRegression\n",
      "R2 Score : 0.9837436856185593\n",
      "Mean Absolute Error Score : 2.718289649632837\n",
      "Mean Sqaured Error Score : 15.121123859837086\n",
      "Root Mean Squared Error: 3.888588929140889\n",
      "[1.26001741e-04 6.85884781e-01 2.35450108e-01 7.46447531e-01\n",
      " 1.42502146e-01]\n",
      "~~~~~~~~~~~~~~~~~~~~~~~~~~~~~~~~~~~~~~~~~~~~~~~~~~\n",
      "RandomForestRegressor\n",
      "R2 Score : 0.9760407484482194\n",
      "Mean Absolute Error Score : 3.373074260882283\n",
      "Mean Sqaured Error Score : 22.286159199595836\n",
      "Root Mean Squared Error: 4.720821877554356\n",
      "[0.11632372 0.11897509 0.10136172 0.65998041 0.40344663]\n",
      "~~~~~~~~~~~~~~~~~~~~~~~~~~~~~~~~~~~~~~~~~~~~~~~~~~\n",
      "LassoCV\n",
      "R2 Score : 0.9833990739803596\n",
      "Mean Absolute Error Score : 2.697074495416601\n",
      "Mean Sqaured Error Score : 15.44167101108476\n",
      "Root Mean Squared Error: 3.9295891656870134\n",
      "[0.34869833 0.19185997 0.85632079 0.53385414 0.72349317]\n",
      "~~~~~~~~~~~~~~~~~~~~~~~~~~~~~~~~~~~~~~~~~~~~~~~~~~\n",
      "RidgeCV\n",
      "R2 Score : 0.9837104697938927\n",
      "Mean Absolute Error Score : 2.719721465881643\n",
      "Mean Sqaured Error Score : 15.152020198767676\n",
      "Root Mean Squared Error: 3.8925595947612255\n",
      "~~~~~~~~~~~~~~~~~~~~~~~~~~~~~~~~~~~~~~~~~~~~~~~~~~\n"
     ]
    }
   ],
   "source": [
    "score_dict={}\n",
    "\n",
    "for reg in reg_list:\n",
    "    reg_name=reg.__class__.__name__\n",
    "    n_coeff = X_test.shape[1] + 1\n",
    "    coefficients = rand(n_coeff)\n",
    "    print(coefficients)\n",
    "    pred = reg.predict(X_test)\n",
    "    print(\"~\"*50)\n",
    "    print(reg_name)\n",
    "    print(f\"R2 Score : {r2_score(y_test, pred)}\")\n",
    "    print(f\"Mean Absolute Error Score : {mean_absolute_error(y_test,pred)}\")\n",
    "    print(f\"Mean Sqaured Error Score : {mean_squared_error(y_test,pred)}\")\n",
    "    print(f\"Root Mean Squared Error: {mean_squared_error(y_test,pred, squared=False)}\")\n",
    "    score_dict[reg_name]={\n",
    "        \"R2 Score\":r2_score(y_test,pred),\n",
    "        \"Mean Absolute Error Score\":mean_absolute_error(y_test,pred),\n",
    "        \"Mean Squared Error Score\":mean_squared_error(y_test,pred),\n",
    "        \"Root Mean Squared Error\": mean_squared_error(y_test,pred, squared=False)\n",
    "    }\n",
    "print(\"~\"*50)"
   ]
  },
  {
   "cell_type": "code",
   "execution_count": 60,
   "id": "22dd245e",
   "metadata": {},
   "outputs": [
    {
     "data": {
      "text/html": [
       "<div>\n",
       "<style scoped>\n",
       "    .dataframe tbody tr th:only-of-type {\n",
       "        vertical-align: middle;\n",
       "    }\n",
       "\n",
       "    .dataframe tbody tr th {\n",
       "        vertical-align: top;\n",
       "    }\n",
       "\n",
       "    .dataframe thead th {\n",
       "        text-align: right;\n",
       "    }\n",
       "</style>\n",
       "<table border=\"1\" class=\"dataframe\">\n",
       "  <thead>\n",
       "    <tr style=\"text-align: right;\">\n",
       "      <th></th>\n",
       "      <th>R2 Score</th>\n",
       "      <th>Mean Absolute Error Score</th>\n",
       "      <th>Mean Squared Error Score</th>\n",
       "      <th>Root Mean Squared Error</th>\n",
       "    </tr>\n",
       "  </thead>\n",
       "  <tbody>\n",
       "    <tr>\n",
       "      <th>LinearRegression</th>\n",
       "      <td>0.983744</td>\n",
       "      <td>2.718290</td>\n",
       "      <td>15.121124</td>\n",
       "      <td>3.888589</td>\n",
       "    </tr>\n",
       "    <tr>\n",
       "      <th>RidgeCV</th>\n",
       "      <td>0.983710</td>\n",
       "      <td>2.719721</td>\n",
       "      <td>15.152020</td>\n",
       "      <td>3.892560</td>\n",
       "    </tr>\n",
       "    <tr>\n",
       "      <th>LassoCV</th>\n",
       "      <td>0.983399</td>\n",
       "      <td>2.697074</td>\n",
       "      <td>15.441671</td>\n",
       "      <td>3.929589</td>\n",
       "    </tr>\n",
       "    <tr>\n",
       "      <th>RandomForestRegressor</th>\n",
       "      <td>0.976041</td>\n",
       "      <td>3.373074</td>\n",
       "      <td>22.286159</td>\n",
       "      <td>4.720822</td>\n",
       "    </tr>\n",
       "  </tbody>\n",
       "</table>\n",
       "</div>"
      ],
      "text/plain": [
       "                       R2 Score  Mean Absolute Error Score  \\\n",
       "LinearRegression       0.983744                   2.718290   \n",
       "RidgeCV                0.983710                   2.719721   \n",
       "LassoCV                0.983399                   2.697074   \n",
       "RandomForestRegressor  0.976041                   3.373074   \n",
       "\n",
       "                       Mean Squared Error Score  Root Mean Squared Error  \n",
       "LinearRegression                      15.121124                 3.888589  \n",
       "RidgeCV                               15.152020                 3.892560  \n",
       "LassoCV                               15.441671                 3.929589  \n",
       "RandomForestRegressor                 22.286159                 4.720822  "
      ]
     },
     "execution_count": 60,
     "metadata": {},
     "output_type": "execute_result"
    }
   ],
   "source": [
    "score_pd=pd.DataFrame(score_dict).transpose().sort_values(\"R2 Score\",ascending=False)\n",
    "score_pd"
   ]
  },
  {
   "cell_type": "markdown",
   "id": "45540c79",
   "metadata": {},
   "source": [
    "Linear Regression outperforms the rest of the models, so we'll apply PCA to this model"
   ]
  },
  {
   "cell_type": "markdown",
   "id": "9c359e6f",
   "metadata": {},
   "source": [
    "### Principal Component Analysis for Linear Regression (High)"
   ]
  },
  {
   "cell_type": "code",
   "execution_count": 61,
   "id": "937cea7a",
   "metadata": {},
   "outputs": [],
   "source": [
    "model = LinearRegression()\n",
    "rmse_scores = []"
   ]
  },
  {
   "cell_type": "code",
   "execution_count": 62,
   "id": "ff2a64de",
   "metadata": {},
   "outputs": [
    {
     "data": {
      "text/plain": [
       "array([3.37347742, 2.37206701, 2.41274656, 2.76738878, 2.69941931,\n",
       "       3.18412038, 5.13534756, 4.24743886, 4.02693803, 3.75972521])"
      ]
     },
     "execution_count": 62,
     "metadata": {},
     "output_type": "execute_result"
    }
   ],
   "source": [
    "pca = decomposition.PCA()\n",
    "X_train_new = scale(X_train)\n",
    "X_test_new = scale(X_test)\n",
    "model = LinearRegression().fit(X_train_new, y_train)\n",
    "lr_scores = -1 * cross_val_score(model, X_train_new, y_train, cv=cv, scoring='neg_root_mean_squared_error')\n",
    "lr_scores"
   ]
  },
  {
   "cell_type": "code",
   "execution_count": 63,
   "id": "cbbef86d",
   "metadata": {},
   "outputs": [
    {
     "data": {
      "text/plain": [
       "3.39786691230483"
      ]
     },
     "execution_count": 63,
     "metadata": {},
     "output_type": "execute_result"
    }
   ],
   "source": [
    "lr_score_train = np.mean(lr_scores)\n",
    "lr_score_train"
   ]
  },
  {
   "cell_type": "code",
   "execution_count": 64,
   "id": "16c9bf59",
   "metadata": {},
   "outputs": [
    {
     "data": {
      "text/plain": [
       "(363, 4)"
      ]
     },
     "execution_count": 64,
     "metadata": {},
     "output_type": "execute_result"
    }
   ],
   "source": [
    "X_train_pc = pca.fit_transform(X_train_new)\n",
    "X_test_pc = pca.fit_transform(X_test_new)\n",
    "X_train_pc.shape"
   ]
  },
  {
   "cell_type": "code",
   "execution_count": 65,
   "id": "2af46af5",
   "metadata": {},
   "outputs": [],
   "source": [
    "for i in range(1, X_train_pc.shape[1]+1):\n",
    "    rmse_score = -1 * cross_val_score(model, X_train_pc[:,:i], y_train, cv = cv, scoring='neg_root_mean_squared_error').mean()\n",
    "    rmse_scores.append(rmse_score)"
   ]
  },
  {
   "cell_type": "code",
   "execution_count": 66,
   "id": "df44c43d",
   "metadata": {},
   "outputs": [
    {
     "data": {
      "image/png": "[encoded data removed]",
      "text/plain": [
       "<Figure size 640x480 with 1 Axes>"
      ]
     },
     "metadata": {},
     "output_type": "display_data"
    }
   ],
   "source": [
    "plt.plot(rmse_scores, '-o')\n",
    "plt.xlabel('Number of principal component in regression')\n",
    "plt.ylabel('Cross Validation RMSE scores')\n",
    "plt.title(\"Open and High\")\n",
    "plt.xlim(xmin=-1)\n",
    "plt.xticks(np.arange(X_train_pc.shape[1]), np.arange(1, X_train_pc.shape[1]+1))\n",
    "plt.axhline(y=lr_score_train, color='g', linestyle='-');"
   ]
  },
  {
   "cell_type": "code",
   "execution_count": 67,
   "id": "91f3790c",
   "metadata": {},
   "outputs": [],
   "source": [
    "num_components = 4"
   ]
  },
  {
   "cell_type": "markdown",
   "id": "9b009588",
   "metadata": {},
   "source": [
    "### Predict with 4 components"
   ]
  },
  {
   "cell_type": "code",
   "execution_count": 68,
   "id": "ac7672b3",
   "metadata": {},
   "outputs": [
    {
     "data": {
      "text/plain": [
       "0.9857355733624092"
      ]
     },
     "execution_count": 68,
     "metadata": {},
     "output_type": "execute_result"
    }
   ],
   "source": [
    "model_pc = LinearRegression().fit(X_train_pc[:,:num_components], y_train.values.ravel())\n",
    "#r2 score\n",
    "model_pc.score(X_train_pc[:,:num_components], y_train.values.ravel())"
   ]
  },
  {
   "cell_type": "code",
   "execution_count": 69,
   "id": "8cbfc257",
   "metadata": {},
   "outputs": [
    {
     "data": {
      "text/plain": [
       "3.397866912304834"
      ]
     },
     "execution_count": 69,
     "metadata": {},
     "output_type": "execute_result"
    }
   ],
   "source": [
    "#pred = model_pc.predict(X_test_pc[:,:num_components])\n",
    "pcr_score_train = -1 * cross_val_score(model_pc, \n",
    "                                       X_train_pc[:,:num_components], \n",
    "                                       y_train, \n",
    "                                       cv=cv, \n",
    "                                       scoring='neg_root_mean_squared_error').mean()\n",
    "pcr_score_train"
   ]
  },
  {
   "cell_type": "code",
   "execution_count": 70,
   "id": "fb646fca",
   "metadata": {},
   "outputs": [],
   "source": [
    "preds = model_pc.predict(X_test_pc[:,:num_components])\n"
   ]
  },
  {
   "cell_type": "code",
   "execution_count": 71,
   "id": "f08b36c1",
   "metadata": {},
   "outputs": [
    {
     "name": "stdout",
     "output_type": "stream",
     "text": [
      "~~~~~~~~~~~~~~~~~~~~~~~~~~~~~~~~~~~~~~~~~~~~~~~~~~\n",
      "Linear Regression with PCA (Test)\n",
      "R2 Score : -2.2239379757103137\n",
      "Mean Absolute Error Score : 43.359688570645\n",
      "Mean Sqaured Error Score : 2998.8079895159876\n",
      "Root Mean Squared Error: 54.761373152213665\n"
     ]
    }
   ],
   "source": [
    "print(\"~\"*50)\n",
    "print(\"Linear Regression with PCA (Test)\")\n",
    "print(f\"R2 Score : {r2_score(y_test, preds)}\")\n",
    "print(f\"Mean Absolute Error Score : {mean_absolute_error(y_test,preds)}\")\n",
    "print(f\"Mean Sqaured Error Score : {mean_squared_error(y_test,preds)}\")\n",
    "print(f\"Root Mean Squared Error: {mean_squared_error(y_test,preds, squared=False)}\")"
   ]
  },
  {
   "cell_type": "code",
   "execution_count": 72,
   "id": "b8274a82",
   "metadata": {},
   "outputs": [
    {
     "name": "stdout",
     "output_type": "stream",
     "text": [
      "~~~~~~~~~~~~~~~~~~~~~~~~~~~~~~~~~~~~~~~~~~~~~~~~~~\n",
      "Linear Regression with PCA (Train)\n",
      "R2 Score : 0.9857355733624092\n",
      "Mean Absolute Error Score : 2.453427213559266\n",
      "Mean Sqaured Error Score : 11.755814582018795\n",
      "Root Mean Squared Error: 3.4286753392554967\n"
     ]
    }
   ],
   "source": [
    "preds = model_pc.predict(X_train_pc[:,:num_components])\n",
    "print(\"~\"*50)\n",
    "print(\"Linear Regression with PCA (Train)\")\n",
    "print(f\"R2 Score : {r2_score(y_train.values.ravel(), preds)}\")\n",
    "print(f\"Mean Absolute Error Score : {mean_absolute_error(y_train.values.ravel(),preds)}\")\n",
    "print(f\"Mean Sqaured Error Score : {mean_squared_error(y_train.values.ravel(),preds)}\")\n",
    "print(f\"Root Mean Squared Error: {mean_squared_error(y_train.values.ravel(),preds, squared=False)}\")"
   ]
  },
  {
   "cell_type": "markdown",
   "id": "76dbf96a",
   "metadata": {},
   "source": [
    "The Linear Regression model perfroms slightly better for the training data, but did much worse for the test data. This model seems to be extremely overfitting the training data."
   ]
  },
  {
   "cell_type": "markdown",
   "id": "1bc87cba",
   "metadata": {},
   "source": [
    "## Predicting Highest value using rest of data\n",
    "Now we predict the Highest stock value using the rest of the dataset"
   ]
  },
  {
   "cell_type": "code",
   "execution_count": 74,
   "id": "6a1e12e1",
   "metadata": {},
   "outputs": [
    {
     "data": {
      "text/html": [
       "<div>\n",
       "<style scoped>\n",
       "    .dataframe tbody tr th:only-of-type {\n",
       "        vertical-align: middle;\n",
       "    }\n",
       "\n",
       "    .dataframe tbody tr th {\n",
       "        vertical-align: top;\n",
       "    }\n",
       "\n",
       "    .dataframe thead th {\n",
       "        text-align: right;\n",
       "    }\n",
       "</style>\n",
       "<table border=\"1\" class=\"dataframe\">\n",
       "  <thead>\n",
       "    <tr style=\"text-align: right;\">\n",
       "      <th></th>\n",
       "      <th>Open</th>\n",
       "      <th>High</th>\n",
       "      <th>Low</th>\n",
       "      <th>Close</th>\n",
       "      <th>Adj Close</th>\n",
       "      <th>Volume</th>\n",
       "    </tr>\n",
       "    <tr>\n",
       "      <th>Date</th>\n",
       "      <th></th>\n",
       "      <th></th>\n",
       "      <th></th>\n",
       "      <th></th>\n",
       "      <th></th>\n",
       "      <th></th>\n",
       "    </tr>\n",
       "  </thead>\n",
       "  <tbody>\n",
       "    <tr>\n",
       "      <th>2020-12-11</th>\n",
       "      <td>146.550003</td>\n",
       "      <td>151.500000</td>\n",
       "      <td>135.100006</td>\n",
       "      <td>139.250000</td>\n",
       "      <td>139.250000</td>\n",
       "      <td>26980800</td>\n",
       "    </tr>\n",
       "    <tr>\n",
       "      <th>2020-12-14</th>\n",
       "      <td>135.000000</td>\n",
       "      <td>135.300003</td>\n",
       "      <td>125.160004</td>\n",
       "      <td>130.000000</td>\n",
       "      <td>130.000000</td>\n",
       "      <td>16966100</td>\n",
       "    </tr>\n",
       "    <tr>\n",
       "      <th>2020-12-15</th>\n",
       "      <td>126.690002</td>\n",
       "      <td>127.599998</td>\n",
       "      <td>121.500000</td>\n",
       "      <td>124.800003</td>\n",
       "      <td>124.800003</td>\n",
       "      <td>10914400</td>\n",
       "    </tr>\n",
       "    <tr>\n",
       "      <th>2020-12-16</th>\n",
       "      <td>125.830002</td>\n",
       "      <td>142.000000</td>\n",
       "      <td>124.910004</td>\n",
       "      <td>137.990005</td>\n",
       "      <td>137.990005</td>\n",
       "      <td>20409600</td>\n",
       "    </tr>\n",
       "    <tr>\n",
       "      <th>2020-12-17</th>\n",
       "      <td>143.000000</td>\n",
       "      <td>152.449997</td>\n",
       "      <td>142.669998</td>\n",
       "      <td>147.050003</td>\n",
       "      <td>147.050003</td>\n",
       "      <td>15054700</td>\n",
       "    </tr>\n",
       "  </tbody>\n",
       "</table>\n",
       "</div>"
      ],
      "text/plain": [
       "                  Open        High         Low       Close   Adj Close  \\\n",
       "Date                                                                     \n",
       "2020-12-11  146.550003  151.500000  135.100006  139.250000  139.250000   \n",
       "2020-12-14  135.000000  135.300003  125.160004  130.000000  130.000000   \n",
       "2020-12-15  126.690002  127.599998  121.500000  124.800003  124.800003   \n",
       "2020-12-16  125.830002  142.000000  124.910004  137.990005  137.990005   \n",
       "2020-12-17  143.000000  152.449997  142.669998  147.050003  147.050003   \n",
       "\n",
       "              Volume  \n",
       "Date                  \n",
       "2020-12-11  26980800  \n",
       "2020-12-14  16966100  \n",
       "2020-12-15  10914400  \n",
       "2020-12-16  20409600  \n",
       "2020-12-17  15054700  "
      ]
     },
     "execution_count": 74,
     "metadata": {},
     "output_type": "execute_result"
    }
   ],
   "source": [
    "df_n = df.copy()\n",
    "df_n.head()"
   ]
  },
  {
   "cell_type": "code",
   "execution_count": 75,
   "id": "df7ce6cf",
   "metadata": {},
   "outputs": [
    {
     "data": {
      "text/html": [
       "<div>\n",
       "<style scoped>\n",
       "    .dataframe tbody tr th:only-of-type {\n",
       "        vertical-align: middle;\n",
       "    }\n",
       "\n",
       "    .dataframe tbody tr th {\n",
       "        vertical-align: top;\n",
       "    }\n",
       "\n",
       "    .dataframe thead th {\n",
       "        text-align: right;\n",
       "    }\n",
       "</style>\n",
       "<table border=\"1\" class=\"dataframe\">\n",
       "  <thead>\n",
       "    <tr style=\"text-align: right;\">\n",
       "      <th></th>\n",
       "      <th>Open</th>\n",
       "      <th>High</th>\n",
       "      <th>Low</th>\n",
       "      <th>Close</th>\n",
       "      <th>Adj Close</th>\n",
       "      <th>Volume</th>\n",
       "      <th>Year</th>\n",
       "      <th>Month</th>\n",
       "      <th>dow</th>\n",
       "    </tr>\n",
       "    <tr>\n",
       "      <th>Date</th>\n",
       "      <th></th>\n",
       "      <th></th>\n",
       "      <th></th>\n",
       "      <th></th>\n",
       "      <th></th>\n",
       "      <th></th>\n",
       "      <th></th>\n",
       "      <th></th>\n",
       "      <th></th>\n",
       "    </tr>\n",
       "  </thead>\n",
       "  <tbody>\n",
       "    <tr>\n",
       "      <th>2020-12-11</th>\n",
       "      <td>146.550003</td>\n",
       "      <td>151.500000</td>\n",
       "      <td>135.100006</td>\n",
       "      <td>139.250000</td>\n",
       "      <td>139.250000</td>\n",
       "      <td>26980800</td>\n",
       "      <td>2020</td>\n",
       "      <td>12</td>\n",
       "      <td>4</td>\n",
       "    </tr>\n",
       "    <tr>\n",
       "      <th>2020-12-14</th>\n",
       "      <td>135.000000</td>\n",
       "      <td>135.300003</td>\n",
       "      <td>125.160004</td>\n",
       "      <td>130.000000</td>\n",
       "      <td>130.000000</td>\n",
       "      <td>16966100</td>\n",
       "      <td>2020</td>\n",
       "      <td>12</td>\n",
       "      <td>0</td>\n",
       "    </tr>\n",
       "    <tr>\n",
       "      <th>2020-12-15</th>\n",
       "      <td>126.690002</td>\n",
       "      <td>127.599998</td>\n",
       "      <td>121.500000</td>\n",
       "      <td>124.800003</td>\n",
       "      <td>124.800003</td>\n",
       "      <td>10914400</td>\n",
       "      <td>2020</td>\n",
       "      <td>12</td>\n",
       "      <td>1</td>\n",
       "    </tr>\n",
       "    <tr>\n",
       "      <th>2020-12-16</th>\n",
       "      <td>125.830002</td>\n",
       "      <td>142.000000</td>\n",
       "      <td>124.910004</td>\n",
       "      <td>137.990005</td>\n",
       "      <td>137.990005</td>\n",
       "      <td>20409600</td>\n",
       "      <td>2020</td>\n",
       "      <td>12</td>\n",
       "      <td>2</td>\n",
       "    </tr>\n",
       "    <tr>\n",
       "      <th>2020-12-17</th>\n",
       "      <td>143.000000</td>\n",
       "      <td>152.449997</td>\n",
       "      <td>142.669998</td>\n",
       "      <td>147.050003</td>\n",
       "      <td>147.050003</td>\n",
       "      <td>15054700</td>\n",
       "      <td>2020</td>\n",
       "      <td>12</td>\n",
       "      <td>3</td>\n",
       "    </tr>\n",
       "  </tbody>\n",
       "</table>\n",
       "</div>"
      ],
      "text/plain": [
       "                  Open        High         Low       Close   Adj Close  \\\n",
       "Date                                                                     \n",
       "2020-12-11  146.550003  151.500000  135.100006  139.250000  139.250000   \n",
       "2020-12-14  135.000000  135.300003  125.160004  130.000000  130.000000   \n",
       "2020-12-15  126.690002  127.599998  121.500000  124.800003  124.800003   \n",
       "2020-12-16  125.830002  142.000000  124.910004  137.990005  137.990005   \n",
       "2020-12-17  143.000000  152.449997  142.669998  147.050003  147.050003   \n",
       "\n",
       "              Volume  Year  Month  dow  \n",
       "Date                                    \n",
       "2020-12-11  26980800  2020     12    4  \n",
       "2020-12-14  16966100  2020     12    0  \n",
       "2020-12-15  10914400  2020     12    1  \n",
       "2020-12-16  20409600  2020     12    2  \n",
       "2020-12-17  15054700  2020     12    3  "
      ]
     },
     "execution_count": 75,
     "metadata": {},
     "output_type": "execute_result"
    }
   ],
   "source": [
    "df_n = create_features_datetime(df_n)\n",
    "df_n.head()"
   ]
  },
  {
   "cell_type": "code",
   "execution_count": 77,
   "id": "672d03cb",
   "metadata": {},
   "outputs": [
    {
     "data": {
      "text/html": [
       "<div>\n",
       "<style scoped>\n",
       "    .dataframe tbody tr th:only-of-type {\n",
       "        vertical-align: middle;\n",
       "    }\n",
       "\n",
       "    .dataframe tbody tr th {\n",
       "        vertical-align: top;\n",
       "    }\n",
       "\n",
       "    .dataframe thead th {\n",
       "        text-align: right;\n",
       "    }\n",
       "</style>\n",
       "<table border=\"1\" class=\"dataframe\">\n",
       "  <thead>\n",
       "    <tr style=\"text-align: right;\">\n",
       "      <th></th>\n",
       "      <th>Open</th>\n",
       "      <th>Low</th>\n",
       "      <th>Close</th>\n",
       "      <th>Adj Close</th>\n",
       "      <th>Volume</th>\n",
       "      <th>Year</th>\n",
       "      <th>Month</th>\n",
       "      <th>dow</th>\n",
       "    </tr>\n",
       "    <tr>\n",
       "      <th>Date</th>\n",
       "      <th></th>\n",
       "      <th></th>\n",
       "      <th></th>\n",
       "      <th></th>\n",
       "      <th></th>\n",
       "      <th></th>\n",
       "      <th></th>\n",
       "      <th></th>\n",
       "    </tr>\n",
       "  </thead>\n",
       "  <tbody>\n",
       "    <tr>\n",
       "      <th>2020-12-11</th>\n",
       "      <td>146.550003</td>\n",
       "      <td>135.100006</td>\n",
       "      <td>139.250000</td>\n",
       "      <td>139.250000</td>\n",
       "      <td>26980800</td>\n",
       "      <td>2020</td>\n",
       "      <td>12</td>\n",
       "      <td>4</td>\n",
       "    </tr>\n",
       "    <tr>\n",
       "      <th>2020-12-14</th>\n",
       "      <td>135.000000</td>\n",
       "      <td>125.160004</td>\n",
       "      <td>130.000000</td>\n",
       "      <td>130.000000</td>\n",
       "      <td>16966100</td>\n",
       "      <td>2020</td>\n",
       "      <td>12</td>\n",
       "      <td>0</td>\n",
       "    </tr>\n",
       "    <tr>\n",
       "      <th>2020-12-15</th>\n",
       "      <td>126.690002</td>\n",
       "      <td>121.500000</td>\n",
       "      <td>124.800003</td>\n",
       "      <td>124.800003</td>\n",
       "      <td>10914400</td>\n",
       "      <td>2020</td>\n",
       "      <td>12</td>\n",
       "      <td>1</td>\n",
       "    </tr>\n",
       "    <tr>\n",
       "      <th>2020-12-16</th>\n",
       "      <td>125.830002</td>\n",
       "      <td>124.910004</td>\n",
       "      <td>137.990005</td>\n",
       "      <td>137.990005</td>\n",
       "      <td>20409600</td>\n",
       "      <td>2020</td>\n",
       "      <td>12</td>\n",
       "      <td>2</td>\n",
       "    </tr>\n",
       "    <tr>\n",
       "      <th>2020-12-17</th>\n",
       "      <td>143.000000</td>\n",
       "      <td>142.669998</td>\n",
       "      <td>147.050003</td>\n",
       "      <td>147.050003</td>\n",
       "      <td>15054700</td>\n",
       "      <td>2020</td>\n",
       "      <td>12</td>\n",
       "      <td>3</td>\n",
       "    </tr>\n",
       "    <tr>\n",
       "      <th>...</th>\n",
       "      <td>...</td>\n",
       "      <td>...</td>\n",
       "      <td>...</td>\n",
       "      <td>...</td>\n",
       "      <td>...</td>\n",
       "      <td>...</td>\n",
       "      <td>...</td>\n",
       "      <td>...</td>\n",
       "    </tr>\n",
       "    <tr>\n",
       "      <th>2022-09-26</th>\n",
       "      <td>101.779999</td>\n",
       "      <td>101.559998</td>\n",
       "      <td>103.230003</td>\n",
       "      <td>103.230003</td>\n",
       "      <td>5278800</td>\n",
       "      <td>2022</td>\n",
       "      <td>9</td>\n",
       "      <td>0</td>\n",
       "    </tr>\n",
       "    <tr>\n",
       "      <th>2022-09-27</th>\n",
       "      <td>106.040001</td>\n",
       "      <td>104.139999</td>\n",
       "      <td>106.370003</td>\n",
       "      <td>106.370003</td>\n",
       "      <td>5081000</td>\n",
       "      <td>2022</td>\n",
       "      <td>9</td>\n",
       "      <td>1</td>\n",
       "    </tr>\n",
       "    <tr>\n",
       "      <th>2022-09-28</th>\n",
       "      <td>106.700996</td>\n",
       "      <td>105.779999</td>\n",
       "      <td>110.690002</td>\n",
       "      <td>110.690002</td>\n",
       "      <td>4518200</td>\n",
       "      <td>2022</td>\n",
       "      <td>9</td>\n",
       "      <td>2</td>\n",
       "    </tr>\n",
       "    <tr>\n",
       "      <th>2022-09-29</th>\n",
       "      <td>109.190002</td>\n",
       "      <td>105.169998</td>\n",
       "      <td>106.660004</td>\n",
       "      <td>106.660004</td>\n",
       "      <td>4259500</td>\n",
       "      <td>2022</td>\n",
       "      <td>9</td>\n",
       "      <td>3</td>\n",
       "    </tr>\n",
       "    <tr>\n",
       "      <th>2022-09-30</th>\n",
       "      <td>104.760002</td>\n",
       "      <td>104.730003</td>\n",
       "      <td>105.040001</td>\n",
       "      <td>105.040001</td>\n",
       "      <td>4747800</td>\n",
       "      <td>2022</td>\n",
       "      <td>9</td>\n",
       "      <td>4</td>\n",
       "    </tr>\n",
       "  </tbody>\n",
       "</table>\n",
       "<p>454 rows × 8 columns</p>\n",
       "</div>"
      ],
      "text/plain": [
       "                  Open         Low       Close   Adj Close    Volume  Year  \\\n",
       "Date                                                                         \n",
       "2020-12-11  146.550003  135.100006  139.250000  139.250000  26980800  2020   \n",
       "2020-12-14  135.000000  125.160004  130.000000  130.000000  16966100  2020   \n",
       "2020-12-15  126.690002  121.500000  124.800003  124.800003  10914400  2020   \n",
       "2020-12-16  125.830002  124.910004  137.990005  137.990005  20409600  2020   \n",
       "2020-12-17  143.000000  142.669998  147.050003  147.050003  15054700  2020   \n",
       "...                ...         ...         ...         ...       ...   ...   \n",
       "2022-09-26  101.779999  101.559998  103.230003  103.230003   5278800  2022   \n",
       "2022-09-27  106.040001  104.139999  106.370003  106.370003   5081000  2022   \n",
       "2022-09-28  106.700996  105.779999  110.690002  110.690002   4518200  2022   \n",
       "2022-09-29  109.190002  105.169998  106.660004  106.660004   4259500  2022   \n",
       "2022-09-30  104.760002  104.730003  105.040001  105.040001   4747800  2022   \n",
       "\n",
       "            Month  dow  \n",
       "Date                    \n",
       "2020-12-11     12    4  \n",
       "2020-12-14     12    0  \n",
       "2020-12-15     12    1  \n",
       "2020-12-16     12    2  \n",
       "2020-12-17     12    3  \n",
       "...           ...  ...  \n",
       "2022-09-26      9    0  \n",
       "2022-09-27      9    1  \n",
       "2022-09-28      9    2  \n",
       "2022-09-29      9    3  \n",
       "2022-09-30      9    4  \n",
       "\n",
       "[454 rows x 8 columns]"
      ]
     },
     "execution_count": 77,
     "metadata": {},
     "output_type": "execute_result"
    }
   ],
   "source": [
    "X = df_n.drop('High', axis=1)\n",
    "y = df_n[['High']]\n",
    "X"
   ]
  },
  {
   "cell_type": "code",
   "execution_count": 78,
   "id": "4b436a14",
   "metadata": {},
   "outputs": [
    {
     "data": {
      "text/plain": [
       "((363, 8), (91, 8), (363, 1), (91, 1))"
      ]
     },
     "execution_count": 78,
     "metadata": {},
     "output_type": "execute_result"
    }
   ],
   "source": [
    "X_train, X_test, y_train, y_test = train_test_split(X, y, test_size=0.2, random_state=42)\n",
    "X_train.shape,X_test.shape,y_train.shape,y_test.shape"
   ]
  },
  {
   "cell_type": "markdown",
   "id": "96c7ef22",
   "metadata": {},
   "source": [
    "### Regression Models"
   ]
  },
  {
   "cell_type": "code",
   "execution_count": 80,
   "id": "71e64ca5",
   "metadata": {},
   "outputs": [],
   "source": [
    "reg_1 = LinearRegression(n_jobs=-1)\n",
    "reg_2 = RandomForestRegressor(n_estimators=500,n_jobs=-1)\n",
    "reg_3 = LassoCV()\n",
    "reg_4 = RidgeCV()\n",
    "\n",
    "reg_list = [reg_1,reg_2, reg_3, reg_4]"
   ]
  },
  {
   "cell_type": "code",
   "execution_count": 81,
   "id": "25fbad57",
   "metadata": {},
   "outputs": [
    {
     "name": "stdout",
     "output_type": "stream",
     "text": [
      "Fitting LinearRegression done\n",
      "--------------------------------------------------\n",
      "Fitting RandomForestRegressor done\n",
      "--------------------------------------------------\n",
      "Fitting LassoCV done\n",
      "--------------------------------------------------\n",
      "Fitting RidgeCV done\n",
      "--------------------------------------------------\n",
      "CPU times: user 1.62 s, sys: 235 ms, total: 1.85 s\n",
      "Wall time: 1.35 s\n"
     ]
    }
   ],
   "source": [
    "%%time\n",
    "for reg in reg_list:\n",
    "    reg_name=reg.__class__.__name__\n",
    "    reg.fit(X_train,y_train.values.ravel())\n",
    "    print(f\"Fitting {reg_name} done\")\n",
    "    print(\"-\"*50)"
   ]
  },
  {
   "cell_type": "code",
   "execution_count": 82,
   "id": "de7cef01",
   "metadata": {},
   "outputs": [
    {
     "name": "stdout",
     "output_type": "stream",
     "text": [
      "[0.83768669 0.41884056 0.80643034 0.28539676 0.4930908  0.96322732\n",
      " 0.2001326  0.25790446 0.65355961]\n",
      "~~~~~~~~~~~~~~~~~~~~~~~~~~~~~~~~~~~~~~~~~~~~~~~~~~\n",
      "LinearRegression\n",
      "R2 Score : 0.9932599473199019\n",
      "Mean Absolute Error Score : 1.603639554636671\n",
      "Mean Sqaured Error Score : 6.269389789480566\n",
      "Root Mean Squared Error: 2.503874954841109\n",
      "[0.37308288 0.2251062  0.48378179 0.97377012 0.20922761 0.04017058\n",
      " 0.84911364 0.49363798 0.89492885]\n",
      "~~~~~~~~~~~~~~~~~~~~~~~~~~~~~~~~~~~~~~~~~~~~~~~~~~\n",
      "RandomForestRegressor\n",
      "R2 Score : 0.9922844822961335\n",
      "Mean Absolute Error Score : 1.7755830755604234\n",
      "Mean Sqaured Error Score : 7.176737365274205\n",
      "Root Mean Squared Error: 2.6789433299855756\n",
      "[0.35150996 0.26436866 0.70695518 0.5764076  0.68168209 0.28493862\n",
      " 0.80869321 0.29443086 0.8539981 ]\n",
      "~~~~~~~~~~~~~~~~~~~~~~~~~~~~~~~~~~~~~~~~~~~~~~~~~~\n",
      "LassoCV\n",
      "R2 Score : 0.014064155125514843\n",
      "Mean Absolute Error Score : 24.62284100397383\n",
      "Mean Sqaured Error Score : 917.0872116757712\n",
      "Root Mean Squared Error: 30.283447816848252\n",
      "[0.19874048 0.1624156  0.01753806 0.7083591  0.61244691 0.12717724\n",
      " 0.33891893 0.36033611 0.0370064 ]\n",
      "~~~~~~~~~~~~~~~~~~~~~~~~~~~~~~~~~~~~~~~~~~~~~~~~~~\n",
      "RidgeCV\n",
      "R2 Score : 0.9921177651165644\n",
      "Mean Absolute Error Score : 1.7787584074968612\n",
      "Mean Sqaured Error Score : 7.331812560221625\n",
      "Root Mean Squared Error: 2.7077319956416708\n",
      "~~~~~~~~~~~~~~~~~~~~~~~~~~~~~~~~~~~~~~~~~~~~~~~~~~\n"
     ]
    }
   ],
   "source": [
    "score_dict={}\n",
    "\n",
    "for reg in reg_list:\n",
    "    reg_name=reg.__class__.__name__\n",
    "    n_coeff = X_test.shape[1] + 1\n",
    "    coefficients = rand(n_coeff)\n",
    "    print(coefficients)\n",
    "    pred = reg.predict(X_test)\n",
    "    print(\"~\"*50)\n",
    "    print(reg_name)\n",
    "    print(f\"R2 Score : {r2_score(y_test, pred)}\")\n",
    "    print(f\"Mean Absolute Error Score : {mean_absolute_error(y_test,pred)}\")\n",
    "    print(f\"Mean Sqaured Error Score : {mean_squared_error(y_test,pred)}\")\n",
    "    print(f\"Root Mean Squared Error: {mean_squared_error(y_test,pred, squared=False)}\")\n",
    "    score_dict[reg_name]={\n",
    "        \"R2 Score\":r2_score(y_test,pred),\n",
    "        \"Mean Absolute Error Score\":mean_absolute_error(y_test,pred),\n",
    "        \"Mean Squared Error Score\":mean_squared_error(y_test,pred),\n",
    "        \"Root Mean Squared Error\": mean_squared_error(y_test,pred, squared=False)\n",
    "    }\n",
    "print(\"~\"*50)"
   ]
  },
  {
   "cell_type": "code",
   "execution_count": 83,
   "id": "dd688a1f",
   "metadata": {},
   "outputs": [
    {
     "data": {
      "text/html": [
       "<div>\n",
       "<style scoped>\n",
       "    .dataframe tbody tr th:only-of-type {\n",
       "        vertical-align: middle;\n",
       "    }\n",
       "\n",
       "    .dataframe tbody tr th {\n",
       "        vertical-align: top;\n",
       "    }\n",
       "\n",
       "    .dataframe thead th {\n",
       "        text-align: right;\n",
       "    }\n",
       "</style>\n",
       "<table border=\"1\" class=\"dataframe\">\n",
       "  <thead>\n",
       "    <tr style=\"text-align: right;\">\n",
       "      <th></th>\n",
       "      <th>R2 Score</th>\n",
       "      <th>Mean Absolute Error Score</th>\n",
       "      <th>Mean Squared Error Score</th>\n",
       "      <th>Root Mean Squared Error</th>\n",
       "    </tr>\n",
       "  </thead>\n",
       "  <tbody>\n",
       "    <tr>\n",
       "      <th>LinearRegression</th>\n",
       "      <td>0.993260</td>\n",
       "      <td>1.603640</td>\n",
       "      <td>6.269390</td>\n",
       "      <td>2.503875</td>\n",
       "    </tr>\n",
       "    <tr>\n",
       "      <th>RandomForestRegressor</th>\n",
       "      <td>0.992284</td>\n",
       "      <td>1.775583</td>\n",
       "      <td>7.176737</td>\n",
       "      <td>2.678943</td>\n",
       "    </tr>\n",
       "    <tr>\n",
       "      <th>RidgeCV</th>\n",
       "      <td>0.992118</td>\n",
       "      <td>1.778758</td>\n",
       "      <td>7.331813</td>\n",
       "      <td>2.707732</td>\n",
       "    </tr>\n",
       "    <tr>\n",
       "      <th>LassoCV</th>\n",
       "      <td>0.014064</td>\n",
       "      <td>24.622841</td>\n",
       "      <td>917.087212</td>\n",
       "      <td>30.283448</td>\n",
       "    </tr>\n",
       "  </tbody>\n",
       "</table>\n",
       "</div>"
      ],
      "text/plain": [
       "                       R2 Score  Mean Absolute Error Score  \\\n",
       "LinearRegression       0.993260                   1.603640   \n",
       "RandomForestRegressor  0.992284                   1.775583   \n",
       "RidgeCV                0.992118                   1.778758   \n",
       "LassoCV                0.014064                  24.622841   \n",
       "\n",
       "                       Mean Squared Error Score  Root Mean Squared Error  \n",
       "LinearRegression                       6.269390                 2.503875  \n",
       "RandomForestRegressor                  7.176737                 2.678943  \n",
       "RidgeCV                                7.331813                 2.707732  \n",
       "LassoCV                              917.087212                30.283448  "
      ]
     },
     "execution_count": 83,
     "metadata": {},
     "output_type": "execute_result"
    }
   ],
   "source": [
    "score_pd=pd.DataFrame(score_dict).transpose().sort_values(\"R2 Score\",ascending=False)\n",
    "score_pd"
   ]
  },
  {
   "cell_type": "markdown",
   "id": "83c6d711",
   "metadata": {},
   "source": [
    "### Principal Component Analysis with Linear Regression (High) (2)"
   ]
  },
  {
   "cell_type": "code",
   "execution_count": 84,
   "id": "61408761",
   "metadata": {},
   "outputs": [],
   "source": [
    "model = LinearRegression()\n",
    "rmse_scores = []"
   ]
  },
  {
   "cell_type": "code",
   "execution_count": 85,
   "id": "8ca4ae37",
   "metadata": {},
   "outputs": [
    {
     "data": {
      "text/plain": [
       "1.9940379308229232"
      ]
     },
     "execution_count": 85,
     "metadata": {},
     "output_type": "execute_result"
    }
   ],
   "source": [
    "pca = decomposition.PCA()\n",
    "X_train_new = scale(X_train)\n",
    "X_test_new = scale(X_test)\n",
    "X_train_new = scale(X_train)\n",
    "X_test_new = scale(X_test)\n",
    "model = LinearRegression().fit(X_train_new, y_train)\n",
    "lr_scores = -1 * cross_val_score(model, X_train_new, y_train, cv=cv, scoring='neg_root_mean_squared_error')\n",
    "lr_score_train = np.mean(lr_scores)\n",
    "lr_score_train"
   ]
  },
  {
   "cell_type": "code",
   "execution_count": 86,
   "id": "42ff1b4d",
   "metadata": {},
   "outputs": [
    {
     "data": {
      "text/plain": [
       "(363, 8)"
      ]
     },
     "execution_count": 86,
     "metadata": {},
     "output_type": "execute_result"
    }
   ],
   "source": [
    "X_train_pc = pca.fit_transform(X_train_new)\n",
    "X_test_pc = pca.fit_transform(X_test_new)\n",
    "X_train_pc.shape"
   ]
  },
  {
   "cell_type": "code",
   "execution_count": 87,
   "id": "597311aa",
   "metadata": {},
   "outputs": [],
   "source": [
    "for i in range(1, X_train_pc.shape[1]+1):\n",
    "    rmse_score = -1 * cross_val_score(model, X_train_pc[:,:i], y_train, cv = cv, scoring='neg_root_mean_squared_error').mean()\n",
    "    rmse_scores.append(rmse_score)"
   ]
  },
  {
   "cell_type": "code",
   "execution_count": 88,
   "id": "ee5e0528",
   "metadata": {},
   "outputs": [
    {
     "data": {
      "image/png": "[encoded data removed]",
      "text/plain": [
       "<Figure size 640x480 with 1 Axes>"
      ]
     },
     "metadata": {},
     "output_type": "display_data"
    }
   ],
   "source": [
    "plt.plot(rmse_scores, '-o')\n",
    "plt.xlabel('Number of principal component in regression')\n",
    "plt.ylabel('Cross Validation RMSE scores')\n",
    "plt.title(\"Low and Close\")\n",
    "plt.xlim(xmin=-1)\n",
    "plt.xticks(np.arange(X_train_pc.shape[1]), np.arange(1, X_train_pc.shape[1]+1))\n",
    "plt.axhline(y=lr_score_train, color='g', linestyle=\"-\");"
   ]
  },
  {
   "cell_type": "markdown",
   "id": "c5e93675",
   "metadata": {},
   "source": [
    "### Predict with 7 components"
   ]
  },
  {
   "cell_type": "code",
   "execution_count": 89,
   "id": "d4b5494f",
   "metadata": {},
   "outputs": [],
   "source": [
    "num_components = 7"
   ]
  },
  {
   "cell_type": "code",
   "execution_count": 90,
   "id": "681bbe5f",
   "metadata": {},
   "outputs": [
    {
     "data": {
      "text/plain": [
       "0.995574987486123"
      ]
     },
     "execution_count": 90,
     "metadata": {},
     "output_type": "execute_result"
    }
   ],
   "source": [
    "model_pc = LinearRegression().fit(X_train_pc[:,:num_components], y_train.values.ravel())\n",
    "#r2 score\n",
    "model_pc.score(X_train_pc[:,:num_components], y_train.values.ravel())"
   ]
  },
  {
   "cell_type": "code",
   "execution_count": 91,
   "id": "f71532de",
   "metadata": {},
   "outputs": [
    {
     "data": {
      "text/plain": [
       "1.994037930822922"
      ]
     },
     "execution_count": 91,
     "metadata": {},
     "output_type": "execute_result"
    }
   ],
   "source": [
    "pcr_score_train = -1 * cross_val_score(model_pc, \n",
    "                                       X_train_pc[:,:num_components], \n",
    "                                       y_train, \n",
    "                                       cv=cv, \n",
    "                                       scoring='neg_root_mean_squared_error').mean()\n",
    "pcr_score_train"
   ]
  },
  {
   "cell_type": "code",
   "execution_count": 92,
   "id": "3b2b7a04",
   "metadata": {},
   "outputs": [],
   "source": [
    "preds = model_pc.predict(X_test_pc[:,:num_components])"
   ]
  },
  {
   "cell_type": "code",
   "execution_count": 93,
   "id": "c68a8707",
   "metadata": {},
   "outputs": [
    {
     "name": "stdout",
     "output_type": "stream",
     "text": [
      "~~~~~~~~~~~~~~~~~~~~~~~~~~~~~~~~~~~~~~~~~~~~~~~~~~\n",
      "Linear Regression with PCA (Test)\n",
      "R2 Score : 0.955993055260009\n",
      "Mean Absolute Error Score : 4.7736437735265405\n",
      "Mean Sqaured Error Score : 40.93390706482117\n",
      "Root Mean Squared Error: 6.397961164685292\n"
     ]
    }
   ],
   "source": [
    "print(\"~\"*50)\n",
    "print(\"Linear Regression with PCA (Test)\")\n",
    "print(f\"R2 Score : {r2_score(y_test, preds)}\")\n",
    "print(f\"Mean Absolute Error Score : {mean_absolute_error(y_test,preds)}\")\n",
    "print(f\"Mean Sqaured Error Score : {mean_squared_error(y_test,preds)}\")\n",
    "print(f\"Root Mean Squared Error: {mean_squared_error(y_test,preds, squared=False)}\")"
   ]
  },
  {
   "cell_type": "code",
   "execution_count": 94,
   "id": "a9a0443d",
   "metadata": {},
   "outputs": [
    {
     "name": "stdout",
     "output_type": "stream",
     "text": [
      "~~~~~~~~~~~~~~~~~~~~~~~~~~~~~~~~~~~~~~~~~~~~~~~~~~\n",
      "Linear Regression with PCA (Train)\n",
      "R2 Score : 0.995574987486123\n",
      "Mean Absolute Error Score : 1.3562202248719613\n",
      "Mean Sqaured Error Score : 3.6468081022733796\n",
      "Root Mean Squared Error: 1.9096617769315538\n"
     ]
    }
   ],
   "source": [
    "preds = model_pc.predict(X_train_pc[:,:num_components])\n",
    "print(\"~\"*50)\n",
    "print(\"Linear Regression with PCA (Train)\")\n",
    "print(f\"R2 Score : {r2_score(y_train.values.ravel(), preds)}\")\n",
    "print(f\"Mean Absolute Error Score : {mean_absolute_error(y_train.values.ravel(),preds)}\")\n",
    "print(f\"Mean Sqaured Error Score : {mean_squared_error(y_train.values.ravel(),preds)}\")\n",
    "print(f\"Root Mean Squared Error: {mean_squared_error(y_train.values.ravel(),preds, squared=False)}\")"
   ]
  },
  {
   "cell_type": "markdown",
   "id": "2e022452",
   "metadata": {},
   "source": [
    "From the results above the PCA tuned Linear Regression Model did not perform as well for the test data as the training, but it did much better than the previous models worked on. The worst score for it seems to be the Mean Squared Error of 40.933"
   ]
  },
  {
   "cell_type": "code",
   "execution_count": 95,
   "id": "a713aed6",
   "metadata": {},
   "outputs": [
    {
     "data": {
      "text/plain": [
       "<AxesSubplot:xlabel='Date'>"
      ]
     },
     "execution_count": 95,
     "metadata": {},
     "output_type": "execute_result"
    },
    {
     "data": {
      "image/png": "[encoded data removed]",
      "text/plain": [
       "<Figure size 2000x800 with 1 Axes>"
      ]
     },
     "metadata": {},
     "output_type": "display_data"
    }
   ],
   "source": [
    "#predicting with linear regression\n",
    "pred = reg_1.predict(X_test)\n",
    "fig, ax = plt.subplots(figsize=(20,8))\n",
    "sns.lineplot(data=y_test, ax = ax)\n",
    "sns.lineplot(y=pred, x = y_test.index, ax = ax)"
   ]
  },
  {
   "cell_type": "code",
   "execution_count": null,
   "id": "5ca280d1",
   "metadata": {},
   "outputs": [],
   "source": []
  }
 ],
 "metadata": {
  "kernelspec": {
   "display_name": "Python 3 (ipykernel)",
   "language": "python",
   "name": "python3"
  },
  "language_info": {
   "codemirror_mode": {
    "name": "ipython",
    "version": 3
   },
   "file_extension": ".py",
   "mimetype": "text/x-python",
   "name": "python",
   "nbconvert_exporter": "python",
   "pygments_lexer": "ipython3",
   "version": "3.9.16"
  }
 },
 "nbformat": 4,
 "nbformat_minor": 5
}
